{
  "nbformat": 4,
  "nbformat_minor": 0,
  "metadata": {
    "colab": {
      "name": "diabetes_detection.ipynb",
      "provenance": []
    },
    "kernelspec": {
      "name": "python3",
      "display_name": "Python 3"
    },
    "language_info": {
      "name": "python"
    }
  },
  "cells": [
    {
      "cell_type": "code",
      "source": [
        "!pip install azureml-core"
      ],
      "metadata": {
        "id": "qNEuDd4cwFs1",
        "colab": {
          "base_uri": "https://localhost:8080/"
        },
        "outputId": "7d62e5c8-4d54-409f-832c-69e034dd4f0e"
      },
      "execution_count": 1,
      "outputs": [
        {
          "output_type": "stream",
          "name": "stdout",
          "text": [
            "Collecting azureml-core\n",
            "  Downloading azureml_core-1.37.0.post1-py3-none-any.whl (2.5 MB)\n",
            "\u001b[K     |████████████████████████████████| 2.5 MB 5.0 MB/s \n",
            "\u001b[?25hCollecting cryptography!=1.9,!=2.0.*,!=2.1.*,!=2.2.*,<4.0.0\n",
            "  Downloading cryptography-3.4.8-cp36-abi3-manylinux_2_24_x86_64.whl (3.0 MB)\n",
            "\u001b[K     |████████████████████████████████| 3.0 MB 75.3 MB/s \n",
            "\u001b[?25hCollecting pyopenssl<22.0.0\n",
            "  Downloading pyOpenSSL-21.0.0-py2.py3-none-any.whl (55 kB)\n",
            "\u001b[K     |████████████████████████████████| 55 kB 3.2 MB/s \n",
            "\u001b[?25hCollecting docker<6.0.0\n",
            "  Downloading docker-5.0.3-py2.py3-none-any.whl (146 kB)\n",
            "\u001b[K     |████████████████████████████████| 146 kB 74.5 MB/s \n",
            "\u001b[?25hCollecting ndg-httpsclient<=0.5.1\n",
            "  Downloading ndg_httpsclient-0.5.1-py3-none-any.whl (34 kB)\n",
            "Collecting pathspec<1.0.0\n",
            "  Downloading pathspec-0.9.0-py2.py3-none-any.whl (31 kB)\n",
            "Collecting knack~=0.8.2\n",
            "  Downloading knack-0.8.2-py3-none-any.whl (59 kB)\n",
            "\u001b[K     |████████████████████████████████| 59 kB 6.5 MB/s \n",
            "\u001b[?25hCollecting azure-mgmt-resource<20.0.0,>=15.0.0\n",
            "  Downloading azure_mgmt_resource-19.0.0-py2.py3-none-any.whl (2.2 MB)\n",
            "\u001b[K     |████████████████████████████████| 2.2 MB 58.4 MB/s \n",
            "\u001b[?25hRequirement already satisfied: contextlib2<22.0.0 in /usr/local/lib/python3.7/dist-packages (from azureml-core) (0.5.5)\n",
            "Requirement already satisfied: python-dateutil<3.0.0,>=2.7.3 in /usr/local/lib/python3.7/dist-packages (from azureml-core) (2.8.2)\n",
            "Collecting SecretStorage<4.0.0\n",
            "  Downloading SecretStorage-3.3.1-py3-none-any.whl (15 kB)\n",
            "Collecting msrest<1.0.0,>=0.5.1\n",
            "  Downloading msrest-0.6.21-py2.py3-none-any.whl (85 kB)\n",
            "\u001b[K     |████████████████████████████████| 85 kB 3.9 MB/s \n",
            "\u001b[?25hCollecting jsonpickle<3.0.0\n",
            "  Downloading jsonpickle-2.0.0-py2.py3-none-any.whl (37 kB)\n",
            "Collecting humanfriendly<10.0,>=4.7\n",
            "  Downloading humanfriendly-9.2-py2.py3-none-any.whl (86 kB)\n",
            "\u001b[K     |████████████████████████████████| 86 kB 5.5 MB/s \n",
            "\u001b[?25hCollecting msrestazure<=0.6.4,>=0.4.33\n",
            "  Downloading msrestazure-0.6.4-py2.py3-none-any.whl (40 kB)\n",
            "\u001b[K     |████████████████████████████████| 40 kB 5.4 MB/s \n",
            "\u001b[?25hCollecting backports.tempfile\n",
            "  Downloading backports.tempfile-1.0-py2.py3-none-any.whl (4.4 kB)\n",
            "Requirement already satisfied: requests[socks]<3.0.0,>=2.19.1 in /usr/local/lib/python3.7/dist-packages (from azureml-core) (2.23.0)\n",
            "Collecting jmespath<1.0.0\n",
            "  Downloading jmespath-0.10.0-py2.py3-none-any.whl (24 kB)\n",
            "Requirement already satisfied: urllib3<=1.26.7,>=1.23 in /usr/local/lib/python3.7/dist-packages (from azureml-core) (1.24.3)\n",
            "Requirement already satisfied: argcomplete~=1.8 in /usr/local/lib/python3.7/dist-packages (from azureml-core) (1.12.3)\n",
            "Collecting azure-graphrbac<1.0.0,>=0.40.0\n",
            "  Downloading azure_graphrbac-0.61.1-py2.py3-none-any.whl (141 kB)\n",
            "\u001b[K     |████████████████████████████████| 141 kB 51.1 MB/s \n",
            "\u001b[?25hCollecting msal<2.0.0,>=1.15.0\n",
            "  Downloading msal-1.16.0-py2.py3-none-any.whl (78 kB)\n",
            "\u001b[K     |████████████████████████████████| 78 kB 5.9 MB/s \n",
            "\u001b[?25hRequirement already satisfied: pytz in /usr/local/lib/python3.7/dist-packages (from azureml-core) (2018.9)\n",
            "Collecting azure-mgmt-storage<20.0.0,>=16.0.0\n",
            "  Downloading azure_mgmt_storage-19.0.0-py2.py3-none-any.whl (1.8 MB)\n",
            "\u001b[K     |████████████████████████████████| 1.8 MB 66.4 MB/s \n",
            "\u001b[?25hCollecting azure-mgmt-keyvault<10.0.0,>=0.40.0\n",
            "  Downloading azure_mgmt_keyvault-9.3.0-py2.py3-none-any.whl (412 kB)\n",
            "\u001b[K     |████████████████████████████████| 412 kB 73.3 MB/s \n",
            "\u001b[?25hCollecting azure-common<2.0.0,>=1.1.12\n",
            "  Downloading azure_common-1.1.27-py2.py3-none-any.whl (12 kB)\n",
            "Collecting PyJWT<3.0.0\n",
            "  Downloading PyJWT-2.3.0-py3-none-any.whl (16 kB)\n",
            "Collecting pkginfo\n",
            "  Downloading pkginfo-1.8.2-py2.py3-none-any.whl (26 kB)\n",
            "Collecting adal<=1.2.7,>=1.2.0\n",
            "  Downloading adal-1.2.7-py2.py3-none-any.whl (55 kB)\n",
            "\u001b[K     |████████████████████████████████| 55 kB 3.2 MB/s \n",
            "\u001b[?25hCollecting azure-mgmt-authorization<1.0.0,>=0.40.0\n",
            "  Downloading azure_mgmt_authorization-0.61.0-py2.py3-none-any.whl (94 kB)\n",
            "\u001b[K     |████████████████████████████████| 94 kB 2.7 MB/s \n",
            "\u001b[?25hRequirement already satisfied: packaging<22.0 in /usr/local/lib/python3.7/dist-packages (from azureml-core) (21.3)\n",
            "Collecting msal-extensions<0.4,>=0.3.0\n",
            "  Downloading msal_extensions-0.3.1-py2.py3-none-any.whl (18 kB)\n",
            "Collecting paramiko<3.0.0,>=2.0.8\n",
            "  Downloading paramiko-2.9.2-py2.py3-none-any.whl (210 kB)\n",
            "\u001b[K     |████████████████████████████████| 210 kB 60.7 MB/s \n",
            "\u001b[?25hCollecting azure-mgmt-containerregistry>=2.0.0\n",
            "  Downloading azure_mgmt_containerregistry-8.2.0-py2.py3-none-any.whl (928 kB)\n",
            "\u001b[K     |████████████████████████████████| 928 kB 62.0 MB/s \n",
            "\u001b[?25hCollecting azure-core<1.21\n",
            "  Downloading azure_core-1.20.1-py2.py3-none-any.whl (177 kB)\n",
            "\u001b[K     |████████████████████████████████| 177 kB 59.5 MB/s \n",
            "\u001b[?25hRequirement already satisfied: importlib-metadata<5,>=0.23 in /usr/local/lib/python3.7/dist-packages (from argcomplete~=1.8->azureml-core) (4.8.2)\n",
            "Requirement already satisfied: six>=1.11.0 in /usr/local/lib/python3.7/dist-packages (from azure-core<1.21->azureml-core) (1.15.0)\n",
            "Collecting azure-mgmt-core<2.0.0,>=1.2.0\n",
            "  Downloading azure_mgmt_core-1.3.0-py2.py3-none-any.whl (25 kB)\n",
            "Requirement already satisfied: cffi>=1.12 in /usr/local/lib/python3.7/dist-packages (from cryptography!=1.9,!=2.0.*,!=2.1.*,!=2.2.*,<4.0.0->azureml-core) (1.15.0)\n",
            "Requirement already satisfied: pycparser in /usr/local/lib/python3.7/dist-packages (from cffi>=1.12->cryptography!=1.9,!=2.0.*,!=2.1.*,!=2.2.*,<4.0.0->azureml-core) (2.21)\n",
            "Collecting websocket-client>=0.32.0\n",
            "  Downloading websocket_client-1.2.3-py3-none-any.whl (53 kB)\n",
            "\u001b[K     |████████████████████████████████| 53 kB 1.9 MB/s \n",
            "\u001b[?25hRequirement already satisfied: typing-extensions>=3.6.4 in /usr/local/lib/python3.7/dist-packages (from importlib-metadata<5,>=0.23->argcomplete~=1.8->azureml-core) (3.10.0.2)\n",
            "Requirement already satisfied: zipp>=0.5 in /usr/local/lib/python3.7/dist-packages (from importlib-metadata<5,>=0.23->argcomplete~=1.8->azureml-core) (3.6.0)\n",
            "Requirement already satisfied: tabulate in /usr/local/lib/python3.7/dist-packages (from knack~=0.8.2->azureml-core) (0.8.9)\n",
            "Requirement already satisfied: pygments in /usr/local/lib/python3.7/dist-packages (from knack~=0.8.2->azureml-core) (2.6.1)\n",
            "Collecting colorama\n",
            "  Downloading colorama-0.4.4-py2.py3-none-any.whl (16 kB)\n",
            "Requirement already satisfied: pyyaml in /usr/local/lib/python3.7/dist-packages (from knack~=0.8.2->azureml-core) (3.13)\n",
            "Collecting portalocker<3,>=1.0\n",
            "  Downloading portalocker-2.3.2-py2.py3-none-any.whl (15 kB)\n",
            "Requirement already satisfied: certifi>=2017.4.17 in /usr/local/lib/python3.7/dist-packages (from msrest<1.0.0,>=0.5.1->azureml-core) (2021.10.8)\n",
            "Requirement already satisfied: requests-oauthlib>=0.5.0 in /usr/local/lib/python3.7/dist-packages (from msrest<1.0.0,>=0.5.1->azureml-core) (1.3.0)\n",
            "Collecting isodate>=0.6.0\n",
            "  Downloading isodate-0.6.1-py2.py3-none-any.whl (41 kB)\n",
            "\u001b[K     |████████████████████████████████| 41 kB 512 kB/s \n",
            "\u001b[?25hRequirement already satisfied: pyasn1>=0.1.1 in /usr/local/lib/python3.7/dist-packages (from ndg-httpsclient<=0.5.1->azureml-core) (0.4.8)\n",
            "Requirement already satisfied: pyparsing!=3.0.5,>=2.0.2 in /usr/local/lib/python3.7/dist-packages (from packaging<22.0->azureml-core) (3.0.6)\n",
            "Collecting bcrypt>=3.1.3\n",
            "  Downloading bcrypt-3.2.0-cp36-abi3-manylinux_2_17_x86_64.manylinux2014_x86_64.manylinux_2_24_x86_64.whl (61 kB)\n",
            "\u001b[K     |████████████████████████████████| 61 kB 442 kB/s \n",
            "\u001b[?25hCollecting pynacl>=1.0.1\n",
            "  Downloading PyNaCl-1.5.0-cp36-abi3-manylinux_2_17_x86_64.manylinux2014_x86_64.manylinux_2_24_x86_64.whl (856 kB)\n",
            "\u001b[K     |████████████████████████████████| 856 kB 58.4 MB/s \n",
            "\u001b[?25hRequirement already satisfied: chardet<4,>=3.0.2 in /usr/local/lib/python3.7/dist-packages (from requests[socks]<3.0.0,>=2.19.1->azureml-core) (3.0.4)\n",
            "Requirement already satisfied: idna<3,>=2.5 in /usr/local/lib/python3.7/dist-packages (from requests[socks]<3.0.0,>=2.19.1->azureml-core) (2.10)\n",
            "Requirement already satisfied: oauthlib>=3.0.0 in /usr/local/lib/python3.7/dist-packages (from requests-oauthlib>=0.5.0->msrest<1.0.0,>=0.5.1->azureml-core) (3.1.1)\n",
            "Requirement already satisfied: PySocks!=1.5.7,>=1.5.6 in /usr/local/lib/python3.7/dist-packages (from requests[socks]<3.0.0,>=2.19.1->azureml-core) (1.7.1)\n",
            "Collecting jeepney>=0.6\n",
            "  Downloading jeepney-0.7.1-py3-none-any.whl (54 kB)\n",
            "\u001b[K     |████████████████████████████████| 54 kB 2.1 MB/s \n",
            "\u001b[?25hCollecting backports.weakref\n",
            "  Downloading backports.weakref-1.0.post1-py2.py3-none-any.whl (5.2 kB)\n",
            "Installing collected packages: PyJWT, isodate, cryptography, msrest, azure-core, adal, websocket-client, pyopenssl, pynacl, portalocker, msrestazure, msal, jmespath, jeepney, colorama, bcrypt, backports.weakref, azure-mgmt-core, azure-common, SecretStorage, pkginfo, pathspec, paramiko, ndg-httpsclient, msal-extensions, knack, jsonpickle, humanfriendly, docker, backports.tempfile, azure-mgmt-storage, azure-mgmt-resource, azure-mgmt-keyvault, azure-mgmt-containerregistry, azure-mgmt-authorization, azure-graphrbac, azureml-core\n",
            "Successfully installed PyJWT-2.3.0 SecretStorage-3.3.1 adal-1.2.7 azure-common-1.1.27 azure-core-1.20.1 azure-graphrbac-0.61.1 azure-mgmt-authorization-0.61.0 azure-mgmt-containerregistry-8.2.0 azure-mgmt-core-1.3.0 azure-mgmt-keyvault-9.3.0 azure-mgmt-resource-19.0.0 azure-mgmt-storage-19.0.0 azureml-core-1.37.0.post1 backports.tempfile-1.0 backports.weakref-1.0.post1 bcrypt-3.2.0 colorama-0.4.4 cryptography-3.4.8 docker-5.0.3 humanfriendly-9.2 isodate-0.6.1 jeepney-0.7.1 jmespath-0.10.0 jsonpickle-2.0.0 knack-0.8.2 msal-1.16.0 msal-extensions-0.3.1 msrest-0.6.21 msrestazure-0.6.4 ndg-httpsclient-0.5.1 paramiko-2.9.2 pathspec-0.9.0 pkginfo-1.8.2 portalocker-2.3.2 pynacl-1.5.0 pyopenssl-21.0.0 websocket-client-1.2.3\n"
          ]
        }
      ]
    },
    {
      "cell_type": "code",
      "source": [
        "!pip install azureml-train-automl"
      ],
      "metadata": {
        "id": "O6Bw2XQ5y_r0",
        "colab": {
          "base_uri": "https://localhost:8080/",
          "height": 1000
        },
        "outputId": "73fad26d-4dd7-4652-8577-dfbc5f645980"
      },
      "execution_count": 2,
      "outputs": [
        {
          "output_type": "stream",
          "name": "stdout",
          "text": [
            "Collecting azureml-train-automl\n",
            "  Downloading azureml_train_automl-1.37.0-py3-none-any.whl (3.5 kB)\n",
            "Collecting azureml-train-automl-client~=1.37.0\n",
            "  Downloading azureml_train_automl_client-1.37.0-py3-none-any.whl (136 kB)\n",
            "\u001b[K     |████████████████████████████████| 136 kB 5.2 MB/s \n",
            "\u001b[?25hCollecting azureml-train-automl-runtime~=1.37.0\n",
            "  Downloading azureml_train_automl_runtime-1.37.0-py3-none-any.whl (277 kB)\n",
            "\u001b[K     |████████████████████████████████| 277 kB 54.6 MB/s \n",
            "\u001b[?25hCollecting azureml-automl-runtime~=1.37.0\n",
            "  Downloading azureml_automl_runtime-1.37.0-py3-none-any.whl (2.1 MB)\n",
            "\u001b[K     |████████████████████████████████| 2.1 MB 53.3 MB/s \n",
            "\u001b[?25hCollecting azureml-dataset-runtime[fuse,pandas]~=1.37.0\n",
            "  Downloading azureml_dataset_runtime-1.37.0-py3-none-any.whl (3.5 kB)\n",
            "Collecting azureml-automl-core~=1.37.0\n",
            "  Downloading azureml_automl_core-1.37.0-py3-none-any.whl (222 kB)\n",
            "\u001b[K     |████████████████████████████████| 222 kB 47.9 MB/s \n",
            "\u001b[?25hCollecting azureml-telemetry~=1.37.0\n",
            "  Downloading azureml_telemetry-1.37.0-py3-none-any.whl (30 kB)\n",
            "Requirement already satisfied: gensim<3.9.0 in /usr/local/lib/python3.7/dist-packages (from azureml-automl-runtime~=1.37.0->azureml-train-automl) (3.6.0)\n",
            "Collecting onnx<=1.7.0,>=1.6.0\n",
            "  Downloading onnx-1.7.0-cp37-cp37m-manylinux1_x86_64.whl (7.4 MB)\n",
            "\u001b[K     |████████████████████████████████| 7.4 MB 26.1 MB/s \n",
            "\u001b[?25hRequirement already satisfied: statsmodels<=0.10.2,>=0.9.0 in /usr/local/lib/python3.7/dist-packages (from azureml-automl-runtime~=1.37.0->azureml-train-automl) (0.10.2)\n",
            "Collecting onnxmltools==1.4.1\n",
            "  Downloading onnxmltools-1.4.1-py2.py3-none-any.whl (371 kB)\n",
            "\u001b[K     |████████████████████████████████| 371 kB 76.2 MB/s \n",
            "\u001b[?25hCollecting scikit-learn<0.23.0,>=0.19.0\n",
            "  Downloading scikit_learn-0.22.2.post1-cp37-cp37m-manylinux1_x86_64.whl (7.1 MB)\n",
            "\u001b[K     |████████████████████████████████| 7.1 MB 46.1 MB/s \n",
            "\u001b[?25hCollecting keras2onnx<=1.6.0,>=1.4.0\n",
            "  Downloading keras2onnx-1.6.0-py3-none-any.whl (219 kB)\n",
            "\u001b[K     |████████████████████████████████| 219 kB 60.1 MB/s \n",
            "\u001b[?25hCollecting pmdarima==1.1.1\n",
            "  Downloading pmdarima-1.1.1-cp37-cp37m-manylinux1_x86_64.whl (696 kB)\n",
            "\u001b[K     |████████████████████████████████| 696 kB 56.2 MB/s \n",
            "\u001b[?25hCollecting pandas<1.0.0,>=0.21.0\n",
            "  Downloading pandas-0.25.3-cp37-cp37m-manylinux1_x86_64.whl (10.4 MB)\n",
            "\u001b[K     |████████████████████████████████| 10.4 MB 43.9 MB/s \n",
            "\u001b[?25hCollecting numpy<1.19.0,>=1.16.0\n",
            "  Downloading numpy-1.18.5-cp37-cp37m-manylinux1_x86_64.whl (20.1 MB)\n",
            "\u001b[K     |████████████████████████████████| 20.1 MB 68.0 MB/s \n",
            "\u001b[?25hCollecting sklearn-pandas<=1.7.0,>=1.4.0\n",
            "  Downloading sklearn_pandas-1.7.0-py2.py3-none-any.whl (10 kB)\n",
            "Collecting botocore<=1.23.19\n",
            "  Downloading botocore-1.23.19-py3-none-any.whl (8.4 MB)\n",
            "\u001b[K     |████████████████████████████████| 8.4 MB 31.9 MB/s \n",
            "\u001b[?25hCollecting onnxconverter-common<=1.6.0,>=1.4.2\n",
            "  Downloading onnxconverter_common-1.6.0-py2.py3-none-any.whl (43 kB)\n",
            "\u001b[K     |████████████████████████████████| 43 kB 1.6 MB/s \n",
            "\u001b[?25hRequirement already satisfied: dill<0.4.0,>=0.2.8 in /usr/local/lib/python3.7/dist-packages (from azureml-automl-runtime~=1.37.0->azureml-train-automl) (0.3.4)\n",
            "Requirement already satisfied: lightgbm<=2.3.0,>=2.0.11 in /usr/local/lib/python3.7/dist-packages (from azureml-automl-runtime~=1.37.0->azureml-train-automl) (2.2.3)\n",
            "Collecting smart-open<=1.9.0\n",
            "  Downloading smart_open-1.9.0.tar.gz (70 kB)\n",
            "\u001b[K     |████████████████████████████████| 70 kB 7.7 MB/s \n",
            "\u001b[?25hCollecting dataclasses<=0.8,>=0.6\n",
            "  Downloading dataclasses-0.6-py3-none-any.whl (14 kB)\n",
            "Collecting onnxruntime<=1.8.0,>=1.3.0\n",
            "  Downloading onnxruntime-1.8.0-cp37-cp37m-manylinux_2_17_x86_64.manylinux2014_x86_64.whl (4.5 MB)\n",
            "\u001b[K     |████████████████████████████████| 4.5 MB 44.2 MB/s \n",
            "\u001b[?25hCollecting boto3<=1.20.19\n",
            "  Downloading boto3-1.20.19-py3-none-any.whl (131 kB)\n",
            "\u001b[K     |████████████████████████████████| 131 kB 65.2 MB/s \n",
            "\u001b[?25hCollecting skl2onnx==1.4.9\n",
            "  Downloading skl2onnx-1.4.9-py2.py3-none-any.whl (114 kB)\n",
            "\u001b[K     |████████████████████████████████| 114 kB 78.3 MB/s \n",
            "\u001b[?25hCollecting joblib==0.14.1\n",
            "  Downloading joblib-0.14.1-py2.py3-none-any.whl (294 kB)\n",
            "\u001b[K     |████████████████████████████████| 294 kB 68.5 MB/s \n",
            "\u001b[?25hRequirement already satisfied: scipy<=1.5.2,>=1.0.0 in /usr/local/lib/python3.7/dist-packages (from azureml-automl-runtime~=1.37.0->azureml-train-automl) (1.4.1)\n",
            "Collecting nimbusml<=1.8.0,>=1.7.1\n",
            "  Downloading nimbusml-1.8.0-cp37-none-manylinux1_x86_64.whl (114.1 MB)\n",
            "\u001b[K     |████████████████████████████████| 114.1 MB 109 kB/s \n",
            "\u001b[?25hRequirement already satisfied: psutil<6.0.0,>=5.2.2 in /usr/local/lib/python3.7/dist-packages (from azureml-automl-runtime~=1.37.0->azureml-train-automl) (5.4.8)\n",
            "Requirement already satisfied: protobuf in /usr/local/lib/python3.7/dist-packages (from onnxmltools==1.4.1->azureml-automl-runtime~=1.37.0->azureml-train-automl) (3.17.3)\n",
            "Requirement already satisfied: six in /usr/local/lib/python3.7/dist-packages (from onnxmltools==1.4.1->azureml-automl-runtime~=1.37.0->azureml-train-automl) (1.15.0)\n",
            "Requirement already satisfied: Cython>=0.29 in /usr/local/lib/python3.7/dist-packages (from pmdarima==1.1.1->azureml-automl-runtime~=1.37.0->azureml-train-automl) (0.29.24)\n",
            "Collecting azureml-dataprep<2.26.0a,>=2.25.0a\n",
            "  Downloading azureml_dataprep-2.25.2-py3-none-any.whl (39.4 MB)\n",
            "\u001b[K     |████████████████████████████████| 39.4 MB 1.2 MB/s \n",
            "\u001b[?25hRequirement already satisfied: pyarrow<4.0.0,>=0.17.0 in /usr/local/lib/python3.7/dist-packages (from azureml-dataset-runtime[fuse,pandas]~=1.37.0->azureml-train-automl) (3.0.0)\n",
            "Collecting azureml-dataprep-native<39.0.0,>=38.0.0\n",
            "  Downloading azureml_dataprep_native-38.0.0-cp37-cp37m-manylinux1_x86_64.whl (1.3 MB)\n",
            "\u001b[K     |████████████████████████████████| 1.3 MB 70.2 MB/s \n",
            "\u001b[?25hRequirement already satisfied: cloudpickle<2.0.0,>=1.1.0 in /usr/local/lib/python3.7/dist-packages (from azureml-dataprep<2.26.0a,>=2.25.0a->azureml-dataset-runtime[fuse,pandas]~=1.37.0->azureml-train-automl) (1.3.0)\n",
            "Collecting azureml-dataprep-rslex~=2.1.0dev0\n",
            "  Downloading azureml_dataprep_rslex-2.1.1-cp37-cp37m-manylinux2010_x86_64.whl (13.2 MB)\n",
            "\u001b[K     |████████████████████████████████| 13.2 MB 42.7 MB/s \n",
            "\u001b[?25hCollecting dotnetcore2<3.0.0,>=2.1.14\n",
            "  Downloading dotnetcore2-2.1.22-py3-none-manylinux1_x86_64.whl (29.3 MB)\n",
            "\u001b[K     |████████████████████████████████| 29.3 MB 69.8 MB/s \n",
            "\u001b[?25hCollecting azure-identity==1.7.0\n",
            "  Downloading azure_identity-1.7.0-py2.py3-none-any.whl (129 kB)\n",
            "\u001b[K     |████████████████████████████████| 129 kB 76.8 MB/s \n",
            "\u001b[?25hRequirement already satisfied: msal<2.0.0,>=1.12.0 in /usr/local/lib/python3.7/dist-packages (from azure-identity==1.7.0->azureml-dataprep<2.26.0a,>=2.25.0a->azureml-dataset-runtime[fuse,pandas]~=1.37.0->azureml-train-automl) (1.16.0)\n",
            "Requirement already satisfied: azure-core<2.0.0,>=1.11.0 in /usr/local/lib/python3.7/dist-packages (from azure-identity==1.7.0->azureml-dataprep<2.26.0a,>=2.25.0a->azureml-dataset-runtime[fuse,pandas]~=1.37.0->azureml-train-automl) (1.20.1)\n",
            "Requirement already satisfied: msal-extensions~=0.3.0 in /usr/local/lib/python3.7/dist-packages (from azure-identity==1.7.0->azureml-dataprep<2.26.0a,>=2.25.0a->azureml-dataset-runtime[fuse,pandas]~=1.37.0->azureml-train-automl) (0.3.1)\n",
            "Requirement already satisfied: cryptography>=2.5 in /usr/local/lib/python3.7/dist-packages (from azure-identity==1.7.0->azureml-dataprep<2.26.0a,>=2.25.0a->azureml-dataset-runtime[fuse,pandas]~=1.37.0->azureml-train-automl) (3.4.8)\n",
            "Requirement already satisfied: requests>=2.18.4 in /usr/local/lib/python3.7/dist-packages (from azure-core<2.0.0,>=1.11.0->azure-identity==1.7.0->azureml-dataprep<2.26.0a,>=2.25.0a->azureml-dataset-runtime[fuse,pandas]~=1.37.0->azureml-train-automl) (2.23.0)\n",
            "Collecting fusepy<4.0.0,>=3.0.1\n",
            "  Downloading fusepy-3.0.1.tar.gz (11 kB)\n",
            "Requirement already satisfied: azureml-core~=1.37.0 in /usr/local/lib/python3.7/dist-packages (from azureml-telemetry~=1.37.0->azureml-automl-core~=1.37.0->azureml-train-automl) (1.37.0.post1)\n",
            "Collecting applicationinsights\n",
            "  Downloading applicationinsights-0.11.10-py2.py3-none-any.whl (55 kB)\n",
            "\u001b[K     |████████████████████████████████| 55 kB 2.9 MB/s \n",
            "\u001b[?25hRequirement already satisfied: adal<=1.2.7,>=1.2.0 in /usr/local/lib/python3.7/dist-packages (from azureml-core~=1.37.0->azureml-telemetry~=1.37.0->azureml-automl-core~=1.37.0->azureml-train-automl) (1.2.7)\n",
            "Requirement already satisfied: knack~=0.8.2 in /usr/local/lib/python3.7/dist-packages (from azureml-core~=1.37.0->azureml-telemetry~=1.37.0->azureml-automl-core~=1.37.0->azureml-train-automl) (0.8.2)\n",
            "Requirement already satisfied: azure-mgmt-resource<20.0.0,>=15.0.0 in /usr/local/lib/python3.7/dist-packages (from azureml-core~=1.37.0->azureml-telemetry~=1.37.0->azureml-automl-core~=1.37.0->azureml-train-automl) (19.0.0)\n",
            "Requirement already satisfied: azure-graphrbac<1.0.0,>=0.40.0 in /usr/local/lib/python3.7/dist-packages (from azureml-core~=1.37.0->azureml-telemetry~=1.37.0->azureml-automl-core~=1.37.0->azureml-train-automl) (0.61.1)\n",
            "Requirement already satisfied: contextlib2<22.0.0 in /usr/local/lib/python3.7/dist-packages (from azureml-core~=1.37.0->azureml-telemetry~=1.37.0->azureml-automl-core~=1.37.0->azureml-train-automl) (0.5.5)\n",
            "Requirement already satisfied: azure-mgmt-keyvault<10.0.0,>=0.40.0 in /usr/local/lib/python3.7/dist-packages (from azureml-core~=1.37.0->azureml-telemetry~=1.37.0->azureml-automl-core~=1.37.0->azureml-train-automl) (9.3.0)\n",
            "Requirement already satisfied: SecretStorage<4.0.0 in /usr/local/lib/python3.7/dist-packages (from azureml-core~=1.37.0->azureml-telemetry~=1.37.0->azureml-automl-core~=1.37.0->azureml-train-automl) (3.3.1)\n",
            "Requirement already satisfied: pathspec<1.0.0 in /usr/local/lib/python3.7/dist-packages (from azureml-core~=1.37.0->azureml-telemetry~=1.37.0->azureml-automl-core~=1.37.0->azureml-train-automl) (0.9.0)\n",
            "Requirement already satisfied: urllib3<=1.26.7,>=1.23 in /usr/local/lib/python3.7/dist-packages (from azureml-core~=1.37.0->azureml-telemetry~=1.37.0->azureml-automl-core~=1.37.0->azureml-train-automl) (1.24.3)\n",
            "Requirement already satisfied: jsonpickle<3.0.0 in /usr/local/lib/python3.7/dist-packages (from azureml-core~=1.37.0->azureml-telemetry~=1.37.0->azureml-automl-core~=1.37.0->azureml-train-automl) (2.0.0)\n",
            "Requirement already satisfied: azure-mgmt-storage<20.0.0,>=16.0.0 in /usr/local/lib/python3.7/dist-packages (from azureml-core~=1.37.0->azureml-telemetry~=1.37.0->azureml-automl-core~=1.37.0->azureml-train-automl) (19.0.0)\n",
            "Requirement already satisfied: PyJWT<3.0.0 in /usr/local/lib/python3.7/dist-packages (from azureml-core~=1.37.0->azureml-telemetry~=1.37.0->azureml-automl-core~=1.37.0->azureml-train-automl) (2.3.0)\n",
            "Requirement already satisfied: jmespath<1.0.0 in /usr/local/lib/python3.7/dist-packages (from azureml-core~=1.37.0->azureml-telemetry~=1.37.0->azureml-automl-core~=1.37.0->azureml-train-automl) (0.10.0)\n",
            "Requirement already satisfied: azure-mgmt-authorization<1.0.0,>=0.40.0 in /usr/local/lib/python3.7/dist-packages (from azureml-core~=1.37.0->azureml-telemetry~=1.37.0->azureml-automl-core~=1.37.0->azureml-train-automl) (0.61.0)\n",
            "Requirement already satisfied: pyopenssl<22.0.0 in /usr/local/lib/python3.7/dist-packages (from azureml-core~=1.37.0->azureml-telemetry~=1.37.0->azureml-automl-core~=1.37.0->azureml-train-automl) (21.0.0)\n",
            "Requirement already satisfied: msrest<1.0.0,>=0.5.1 in /usr/local/lib/python3.7/dist-packages (from azureml-core~=1.37.0->azureml-telemetry~=1.37.0->azureml-automl-core~=1.37.0->azureml-train-automl) (0.6.21)\n",
            "Requirement already satisfied: pkginfo in /usr/local/lib/python3.7/dist-packages (from azureml-core~=1.37.0->azureml-telemetry~=1.37.0->azureml-automl-core~=1.37.0->azureml-train-automl) (1.8.2)\n",
            "Requirement already satisfied: backports.tempfile in /usr/local/lib/python3.7/dist-packages (from azureml-core~=1.37.0->azureml-telemetry~=1.37.0->azureml-automl-core~=1.37.0->azureml-train-automl) (1.0)\n",
            "Requirement already satisfied: paramiko<3.0.0,>=2.0.8 in /usr/local/lib/python3.7/dist-packages (from azureml-core~=1.37.0->azureml-telemetry~=1.37.0->azureml-automl-core~=1.37.0->azureml-train-automl) (2.9.2)\n",
            "Requirement already satisfied: python-dateutil<3.0.0,>=2.7.3 in /usr/local/lib/python3.7/dist-packages (from azureml-core~=1.37.0->azureml-telemetry~=1.37.0->azureml-automl-core~=1.37.0->azureml-train-automl) (2.8.2)\n",
            "Requirement already satisfied: pytz in /usr/local/lib/python3.7/dist-packages (from azureml-core~=1.37.0->azureml-telemetry~=1.37.0->azureml-automl-core~=1.37.0->azureml-train-automl) (2018.9)\n",
            "Requirement already satisfied: humanfriendly<10.0,>=4.7 in /usr/local/lib/python3.7/dist-packages (from azureml-core~=1.37.0->azureml-telemetry~=1.37.0->azureml-automl-core~=1.37.0->azureml-train-automl) (9.2)\n",
            "Requirement already satisfied: argcomplete~=1.8 in /usr/local/lib/python3.7/dist-packages (from azureml-core~=1.37.0->azureml-telemetry~=1.37.0->azureml-automl-core~=1.37.0->azureml-train-automl) (1.12.3)\n",
            "Requirement already satisfied: packaging<22.0 in /usr/local/lib/python3.7/dist-packages (from azureml-core~=1.37.0->azureml-telemetry~=1.37.0->azureml-automl-core~=1.37.0->azureml-train-automl) (21.3)\n",
            "Requirement already satisfied: ndg-httpsclient<=0.5.1 in /usr/local/lib/python3.7/dist-packages (from azureml-core~=1.37.0->azureml-telemetry~=1.37.0->azureml-automl-core~=1.37.0->azureml-train-automl) (0.5.1)\n",
            "Requirement already satisfied: azure-common<2.0.0,>=1.1.12 in /usr/local/lib/python3.7/dist-packages (from azureml-core~=1.37.0->azureml-telemetry~=1.37.0->azureml-automl-core~=1.37.0->azureml-train-automl) (1.1.27)\n",
            "Requirement already satisfied: docker<6.0.0 in /usr/local/lib/python3.7/dist-packages (from azureml-core~=1.37.0->azureml-telemetry~=1.37.0->azureml-automl-core~=1.37.0->azureml-train-automl) (5.0.3)\n",
            "Requirement already satisfied: azure-mgmt-containerregistry>=2.0.0 in /usr/local/lib/python3.7/dist-packages (from azureml-core~=1.37.0->azureml-telemetry~=1.37.0->azureml-automl-core~=1.37.0->azureml-train-automl) (8.2.0)\n",
            "Requirement already satisfied: msrestazure<=0.6.4,>=0.4.33 in /usr/local/lib/python3.7/dist-packages (from azureml-core~=1.37.0->azureml-telemetry~=1.37.0->azureml-automl-core~=1.37.0->azureml-train-automl) (0.6.4)\n",
            "Requirement already satisfied: importlib-metadata<5,>=0.23 in /usr/local/lib/python3.7/dist-packages (from argcomplete~=1.8->azureml-core~=1.37.0->azureml-telemetry~=1.37.0->azureml-automl-core~=1.37.0->azureml-train-automl) (4.8.2)\n",
            "Requirement already satisfied: azure-mgmt-core<2.0.0,>=1.2.0 in /usr/local/lib/python3.7/dist-packages (from azure-mgmt-containerregistry>=2.0.0->azureml-core~=1.37.0->azureml-telemetry~=1.37.0->azureml-automl-core~=1.37.0->azureml-train-automl) (1.3.0)\n",
            "Collecting azureml-train-core~=1.37.0\n",
            "  Downloading azureml_train_core-1.37.0-py3-none-any.whl (8.6 MB)\n",
            "\u001b[K     |████████████████████████████████| 8.6 MB 26.2 MB/s \n",
            "\u001b[?25hCollecting azureml-interpret~=1.37.0\n",
            "  Downloading azureml_interpret-1.37.0-py3-none-any.whl (52 kB)\n",
            "\u001b[K     |████████████████████████████████| 52 kB 1.6 MB/s \n",
            "\u001b[?25hCollecting azure-storage-queue~=12.1\n",
            "  Downloading azure_storage_queue-12.1.6-py2.py3-none-any.whl (137 kB)\n",
            "\u001b[K     |████████████████████████████████| 137 kB 71.3 MB/s \n",
            "\u001b[?25hRequirement already satisfied: dask[complete]<=2.30.0 in /usr/local/lib/python3.7/dist-packages (from azureml-train-automl-runtime~=1.37.0->azureml-train-automl) (2.12.0)\n",
            "Requirement already satisfied: distributed<=2.30.1 in /usr/local/lib/python3.7/dist-packages (from azureml-train-automl-runtime~=1.37.0->azureml-train-automl) (1.25.3)\n",
            "Collecting azureml-defaults~=1.37.0\n",
            "  Downloading azureml_defaults-1.37.0-py3-none-any.whl (3.0 kB)\n",
            "Collecting jinja2<=2.11.2\n",
            "  Downloading Jinja2-2.11.2-py2.py3-none-any.whl (125 kB)\n",
            "\u001b[K     |████████████████████████████████| 125 kB 77.1 MB/s \n",
            "\u001b[?25hCollecting azureml-mlflow~=1.37.0\n",
            "  Downloading azureml_mlflow-1.37.0-py3-none-any.whl (46 kB)\n",
            "\u001b[K     |████████████████████████████████| 46 kB 3.8 MB/s \n",
            "\u001b[?25hCollecting azureml-inference-server-http~=0.4.1\n",
            "  Downloading azureml_inference_server_http-0.4.2-py3-none-any.whl (38 kB)\n",
            "Collecting json-logging-py==0.2\n",
            "  Downloading json-logging-py-0.2.tar.gz (3.6 kB)\n",
            "Collecting configparser==3.7.4\n",
            "  Downloading configparser-3.7.4-py2.py3-none-any.whl (22 kB)\n",
            "Collecting inference-schema==1.3.0\n",
            "  Downloading inference_schema-1.3.0-py3-none-any.whl (19 kB)\n",
            "Collecting flask==1.0.3\n",
            "  Downloading Flask-1.0.3-py2.py3-none-any.whl (92 kB)\n",
            "\u001b[K     |████████████████████████████████| 92 kB 9.3 MB/s \n",
            "\u001b[?25hCollecting gunicorn==20.1.0\n",
            "  Downloading gunicorn-20.1.0-py3-none-any.whl (79 kB)\n",
            "\u001b[K     |████████████████████████████████| 79 kB 6.9 MB/s \n",
            "\u001b[?25hRequirement already satisfied: Werkzeug>=0.14 in /usr/local/lib/python3.7/dist-packages (from flask==1.0.3->azureml-inference-server-http~=0.4.1->azureml-defaults~=1.37.0->azureml-train-automl-runtime~=1.37.0->azureml-train-automl) (1.0.1)\n",
            "Requirement already satisfied: itsdangerous>=0.24 in /usr/local/lib/python3.7/dist-packages (from flask==1.0.3->azureml-inference-server-http~=0.4.1->azureml-defaults~=1.37.0->azureml-train-automl-runtime~=1.37.0->azureml-train-automl) (1.1.0)\n",
            "Requirement already satisfied: click>=5.1 in /usr/local/lib/python3.7/dist-packages (from flask==1.0.3->azureml-inference-server-http~=0.4.1->azureml-defaults~=1.37.0->azureml-train-automl-runtime~=1.37.0->azureml-train-automl) (7.1.2)\n",
            "Requirement already satisfied: setuptools>=3.0 in /usr/local/lib/python3.7/dist-packages (from gunicorn==20.1.0->azureml-inference-server-http~=0.4.1->azureml-defaults~=1.37.0->azureml-train-automl-runtime~=1.37.0->azureml-train-automl) (57.4.0)\n",
            "Collecting wrapt<=1.12.1,>=1.11.1\n",
            "  Downloading wrapt-1.12.1.tar.gz (27 kB)\n",
            "Collecting shap<0.40.0\n",
            "  Downloading shap-0.39.0.tar.gz (356 kB)\n",
            "\u001b[K     |████████████████████████████████| 356 kB 57.9 MB/s \n",
            "\u001b[?25hRequirement already satisfied: numba<0.54.0 in /usr/local/lib/python3.7/dist-packages (from azureml-interpret~=1.37.0->azureml-train-automl-runtime~=1.37.0->azureml-train-automl) (0.51.2)\n",
            "Collecting interpret-community==0.22.*\n",
            "  Downloading interpret_community-0.22.0-py3-none-any.whl (137 kB)\n",
            "\u001b[K     |████████████████████████████████| 137 kB 51.2 MB/s \n",
            "\u001b[?25hCollecting interpret-core[required]<=0.2.7,>=0.1.20\n",
            "  Downloading interpret_core-0.2.7-py3-none-any.whl (6.6 MB)\n",
            "\u001b[K     |████████████████████████████████| 6.6 MB 25.8 MB/s \n",
            "\u001b[?25hCollecting mlflow-skinny\n",
            "  Downloading mlflow_skinny-1.22.0-py3-none-any.whl (3.1 MB)\n",
            "\u001b[K     |████████████████████████████████| 3.1 MB 54.0 MB/s \n",
            "\u001b[?25hCollecting azureml-train-restclients-hyperdrive~=1.37.0\n",
            "  Downloading azureml_train_restclients_hyperdrive-1.37.0-py3-none-any.whl (19 kB)\n",
            "Collecting s3transfer<0.6.0,>=0.5.0\n",
            "  Downloading s3transfer-0.5.0-py3-none-any.whl (79 kB)\n",
            "\u001b[K     |████████████████████████████████| 79 kB 7.1 MB/s \n",
            "\u001b[?25hCollecting urllib3<=1.26.7,>=1.23\n",
            "  Downloading urllib3-1.26.7-py2.py3-none-any.whl (138 kB)\n",
            "\u001b[K     |████████████████████████████████| 138 kB 62.9 MB/s \n",
            "\u001b[?25hRequirement already satisfied: cffi>=1.12 in /usr/local/lib/python3.7/dist-packages (from cryptography>=2.5->azure-identity==1.7.0->azureml-dataprep<2.26.0a,>=2.25.0a->azureml-dataset-runtime[fuse,pandas]~=1.37.0->azureml-train-automl) (1.15.0)\n",
            "Requirement already satisfied: pycparser in /usr/local/lib/python3.7/dist-packages (from cffi>=1.12->cryptography>=2.5->azure-identity==1.7.0->azureml-dataprep<2.26.0a,>=2.25.0a->azureml-dataset-runtime[fuse,pandas]~=1.37.0->azureml-train-automl) (2.21)\n",
            "Requirement already satisfied: toolz>=0.7.3 in /usr/local/lib/python3.7/dist-packages (from dask[complete]<=2.30.0->azureml-train-automl-runtime~=1.37.0->azureml-train-automl) (0.11.2)\n",
            "Collecting fsspec>=0.6.0\n",
            "  Downloading fsspec-2021.11.1-py3-none-any.whl (132 kB)\n",
            "\u001b[K     |████████████████████████████████| 132 kB 61.1 MB/s \n",
            "\u001b[?25hRequirement already satisfied: PyYaml in /usr/local/lib/python3.7/dist-packages (from dask[complete]<=2.30.0->azureml-train-automl-runtime~=1.37.0->azureml-train-automl) (3.13)\n",
            "Collecting distributed<=2.30.1\n",
            "  Downloading distributed-2.30.1-py3-none-any.whl (656 kB)\n",
            "\u001b[K     |████████████████████████████████| 656 kB 57.2 MB/s \n",
            "\u001b[?25hRequirement already satisfied: bokeh>=1.0.0 in /usr/local/lib/python3.7/dist-packages (from dask[complete]<=2.30.0->azureml-train-automl-runtime~=1.37.0->azureml-train-automl) (2.3.3)\n",
            "Collecting partd>=0.3.10\n",
            "  Downloading partd-1.2.0-py3-none-any.whl (19 kB)\n",
            "Requirement already satisfied: pillow>=7.1.0 in /usr/local/lib/python3.7/dist-packages (from bokeh>=1.0.0->dask[complete]<=2.30.0->azureml-train-automl-runtime~=1.37.0->azureml-train-automl) (7.1.2)\n",
            "Requirement already satisfied: typing-extensions>=3.7.4 in /usr/local/lib/python3.7/dist-packages (from bokeh>=1.0.0->dask[complete]<=2.30.0->azureml-train-automl-runtime~=1.37.0->azureml-train-automl) (3.10.0.2)\n",
            "Requirement already satisfied: tornado>=5.1 in /usr/local/lib/python3.7/dist-packages (from bokeh>=1.0.0->dask[complete]<=2.30.0->azureml-train-automl-runtime~=1.37.0->azureml-train-automl) (5.1.1)\n",
            "Collecting cloudpickle<2.0.0,>=1.1.0\n",
            "  Downloading cloudpickle-1.6.0-py3-none-any.whl (23 kB)\n",
            "Requirement already satisfied: sortedcontainers!=2.0.0,!=2.0.1 in /usr/local/lib/python3.7/dist-packages (from distributed<=2.30.1->azureml-train-automl-runtime~=1.37.0->azureml-train-automl) (2.4.0)\n",
            "Requirement already satisfied: tblib>=1.6.0 in /usr/local/lib/python3.7/dist-packages (from distributed<=2.30.1->azureml-train-automl-runtime~=1.37.0->azureml-train-automl) (1.7.0)\n",
            "Requirement already satisfied: zict>=0.1.3 in /usr/local/lib/python3.7/dist-packages (from distributed<=2.30.1->azureml-train-automl-runtime~=1.37.0->azureml-train-automl) (2.0.0)\n",
            "Requirement already satisfied: msgpack>=0.6.0 in /usr/local/lib/python3.7/dist-packages (from distributed<=2.30.1->azureml-train-automl-runtime~=1.37.0->azureml-train-automl) (1.0.3)\n",
            "Requirement already satisfied: websocket-client>=0.32.0 in /usr/local/lib/python3.7/dist-packages (from docker<6.0.0->azureml-core~=1.37.0->azureml-telemetry~=1.37.0->azureml-automl-core~=1.37.0->azureml-train-automl) (1.2.3)\n",
            "Collecting distro>=1.2.0\n",
            "  Downloading distro-1.6.0-py2.py3-none-any.whl (19 kB)\n",
            "Requirement already satisfied: zipp>=0.5 in /usr/local/lib/python3.7/dist-packages (from importlib-metadata<5,>=0.23->argcomplete~=1.8->azureml-core~=1.37.0->azureml-telemetry~=1.37.0->azureml-automl-core~=1.37.0->azureml-train-automl) (3.6.0)\n",
            "Requirement already satisfied: MarkupSafe>=0.23 in /usr/local/lib/python3.7/dist-packages (from jinja2<=2.11.2->azureml-train-automl-runtime~=1.37.0->azureml-train-automl) (2.0.1)\n",
            "Collecting fire\n",
            "  Downloading fire-0.4.0.tar.gz (87 kB)\n",
            "\u001b[K     |████████████████████████████████| 87 kB 6.0 MB/s \n",
            "\u001b[?25hRequirement already satisfied: colorama in /usr/local/lib/python3.7/dist-packages (from knack~=0.8.2->azureml-core~=1.37.0->azureml-telemetry~=1.37.0->azureml-automl-core~=1.37.0->azureml-train-automl) (0.4.4)\n",
            "Requirement already satisfied: tabulate in /usr/local/lib/python3.7/dist-packages (from knack~=0.8.2->azureml-core~=1.37.0->azureml-telemetry~=1.37.0->azureml-automl-core~=1.37.0->azureml-train-automl) (0.8.9)\n",
            "Requirement already satisfied: pygments in /usr/local/lib/python3.7/dist-packages (from knack~=0.8.2->azureml-core~=1.37.0->azureml-telemetry~=1.37.0->azureml-automl-core~=1.37.0->azureml-train-automl) (2.6.1)\n",
            "Requirement already satisfied: portalocker<3,>=1.0 in /usr/local/lib/python3.7/dist-packages (from msal-extensions~=0.3.0->azure-identity==1.7.0->azureml-dataprep<2.26.0a,>=2.25.0a->azureml-dataset-runtime[fuse,pandas]~=1.37.0->azureml-train-automl) (2.3.2)\n",
            "Requirement already satisfied: requests-oauthlib>=0.5.0 in /usr/local/lib/python3.7/dist-packages (from msrest<1.0.0,>=0.5.1->azureml-core~=1.37.0->azureml-telemetry~=1.37.0->azureml-automl-core~=1.37.0->azureml-train-automl) (1.3.0)\n",
            "Requirement already satisfied: isodate>=0.6.0 in /usr/local/lib/python3.7/dist-packages (from msrest<1.0.0,>=0.5.1->azureml-core~=1.37.0->azureml-telemetry~=1.37.0->azureml-automl-core~=1.37.0->azureml-train-automl) (0.6.1)\n",
            "Requirement already satisfied: certifi>=2017.4.17 in /usr/local/lib/python3.7/dist-packages (from msrest<1.0.0,>=0.5.1->azureml-core~=1.37.0->azureml-telemetry~=1.37.0->azureml-automl-core~=1.37.0->azureml-train-automl) (2021.10.8)\n",
            "Requirement already satisfied: pyasn1>=0.1.1 in /usr/local/lib/python3.7/dist-packages (from ndg-httpsclient<=0.5.1->azureml-core~=1.37.0->azureml-telemetry~=1.37.0->azureml-automl-core~=1.37.0->azureml-train-automl) (0.4.8)\n",
            "Requirement already satisfied: llvmlite<0.35,>=0.34.0.dev0 in /usr/local/lib/python3.7/dist-packages (from numba<0.54.0->azureml-interpret~=1.37.0->azureml-train-automl-runtime~=1.37.0->azureml-train-automl) (0.34.0)\n",
            "Requirement already satisfied: flatbuffers in /usr/local/lib/python3.7/dist-packages (from onnxruntime<=1.8.0,>=1.3.0->azureml-automl-runtime~=1.37.0->azureml-train-automl) (2.0)\n",
            "Requirement already satisfied: pyparsing!=3.0.5,>=2.0.2 in /usr/local/lib/python3.7/dist-packages (from packaging<22.0->azureml-core~=1.37.0->azureml-telemetry~=1.37.0->azureml-automl-core~=1.37.0->azureml-train-automl) (3.0.6)\n",
            "Requirement already satisfied: bcrypt>=3.1.3 in /usr/local/lib/python3.7/dist-packages (from paramiko<3.0.0,>=2.0.8->azureml-core~=1.37.0->azureml-telemetry~=1.37.0->azureml-automl-core~=1.37.0->azureml-train-automl) (3.2.0)\n",
            "Requirement already satisfied: pynacl>=1.0.1 in /usr/local/lib/python3.7/dist-packages (from paramiko<3.0.0,>=2.0.8->azureml-core~=1.37.0->azureml-telemetry~=1.37.0->azureml-automl-core~=1.37.0->azureml-train-automl) (1.5.0)\n",
            "Collecting locket\n",
            "  Downloading locket-0.2.1-py2.py3-none-any.whl (4.1 kB)\n",
            "Requirement already satisfied: chardet<4,>=3.0.2 in /usr/local/lib/python3.7/dist-packages (from requests>=2.18.4->azure-core<2.0.0,>=1.11.0->azure-identity==1.7.0->azureml-dataprep<2.26.0a,>=2.25.0a->azureml-dataset-runtime[fuse,pandas]~=1.37.0->azureml-train-automl) (3.0.4)\n",
            "Collecting urllib3<=1.26.7,>=1.23\n",
            "  Downloading urllib3-1.25.11-py2.py3-none-any.whl (127 kB)\n",
            "\u001b[K     |████████████████████████████████| 127 kB 58.0 MB/s \n",
            "\u001b[?25hRequirement already satisfied: idna<3,>=2.5 in /usr/local/lib/python3.7/dist-packages (from requests>=2.18.4->azure-core<2.0.0,>=1.11.0->azure-identity==1.7.0->azureml-dataprep<2.26.0a,>=2.25.0a->azureml-dataset-runtime[fuse,pandas]~=1.37.0->azureml-train-automl) (2.10)\n",
            "Requirement already satisfied: oauthlib>=3.0.0 in /usr/local/lib/python3.7/dist-packages (from requests-oauthlib>=0.5.0->msrest<1.0.0,>=0.5.1->azureml-core~=1.37.0->azureml-telemetry~=1.37.0->azureml-automl-core~=1.37.0->azureml-train-automl) (3.1.1)\n",
            "Requirement already satisfied: PySocks!=1.5.7,>=1.5.6 in /usr/local/lib/python3.7/dist-packages (from requests>=2.18.4->azure-core<2.0.0,>=1.11.0->azure-identity==1.7.0->azureml-dataprep<2.26.0a,>=2.25.0a->azureml-dataset-runtime[fuse,pandas]~=1.37.0->azureml-train-automl) (1.7.1)\n",
            "Requirement already satisfied: jeepney>=0.6 in /usr/local/lib/python3.7/dist-packages (from SecretStorage<4.0.0->azureml-core~=1.37.0->azureml-telemetry~=1.37.0->azureml-automl-core~=1.37.0->azureml-train-automl) (0.7.1)\n",
            "Requirement already satisfied: tqdm>4.25.0 in /usr/local/lib/python3.7/dist-packages (from shap<0.40.0->azureml-interpret~=1.37.0->azureml-train-automl-runtime~=1.37.0->azureml-train-automl) (4.62.3)\n",
            "Collecting slicer==0.0.7\n",
            "  Downloading slicer-0.0.7-py3-none-any.whl (14 kB)\n",
            "Collecting boto>=2.32\n",
            "  Downloading boto-2.49.0-py2.py3-none-any.whl (1.4 MB)\n",
            "\u001b[K     |████████████████████████████████| 1.4 MB 54.7 MB/s \n",
            "\u001b[?25hRequirement already satisfied: patsy>=0.4.0 in /usr/local/lib/python3.7/dist-packages (from statsmodels<=0.10.2,>=0.9.0->azureml-automl-runtime~=1.37.0->azureml-train-automl) (0.5.2)\n",
            "Requirement already satisfied: heapdict in /usr/local/lib/python3.7/dist-packages (from zict>=0.1.3->distributed<=2.30.1->azureml-train-automl-runtime~=1.37.0->azureml-train-automl) (1.0.1)\n",
            "Requirement already satisfied: backports.weakref in /usr/local/lib/python3.7/dist-packages (from backports.tempfile->azureml-core~=1.37.0->azureml-telemetry~=1.37.0->azureml-automl-core~=1.37.0->azureml-train-automl) (1.0.post1)\n",
            "Requirement already satisfied: termcolor in /usr/local/lib/python3.7/dist-packages (from fire->keras2onnx<=1.6.0,>=1.4.0->azureml-automl-runtime~=1.37.0->azureml-train-automl) (1.1.0)\n",
            "Collecting databricks-cli>=0.8.7\n",
            "  Downloading databricks-cli-0.16.2.tar.gz (58 kB)\n",
            "\u001b[K     |████████████████████████████████| 58 kB 5.5 MB/s \n",
            "\u001b[?25hCollecting PyYaml\n",
            "  Downloading PyYAML-6.0-cp37-cp37m-manylinux_2_5_x86_64.manylinux1_x86_64.manylinux_2_12_x86_64.manylinux2010_x86_64.whl (596 kB)\n",
            "\u001b[K     |████████████████████████████████| 596 kB 40.0 MB/s \n",
            "\u001b[?25hCollecting gitpython>=2.1.0\n",
            "  Downloading GitPython-3.1.25-py3-none-any.whl (180 kB)\n",
            "\u001b[K     |████████████████████████████████| 180 kB 56.0 MB/s \n",
            "\u001b[?25hRequirement already satisfied: entrypoints in /usr/local/lib/python3.7/dist-packages (from mlflow-skinny->azureml-mlflow~=1.37.0->azureml-train-automl-runtime~=1.37.0->azureml-train-automl) (0.3)\n",
            "Collecting gitdb<5,>=4.0.1\n",
            "  Downloading gitdb-4.0.9-py3-none-any.whl (63 kB)\n",
            "\u001b[K     |████████████████████████████████| 63 kB 1.3 MB/s \n",
            "\u001b[?25hCollecting smmap<6,>=3.0.1\n",
            "  Downloading smmap-5.0.0-py3-none-any.whl (24 kB)\n",
            "Building wheels for collected packages: json-logging-py, fusepy, shap, smart-open, wrapt, fire, databricks-cli\n",
            "  Building wheel for json-logging-py (setup.py) ... \u001b[?25l\u001b[?25hdone\n",
            "  Created wheel for json-logging-py: filename=json_logging_py-0.2-py3-none-any.whl size=3925 sha256=638d51626987e3e4f6c279ddf4d660ec4be2f2a6b534b7333ae009941a454ac0\n",
            "  Stored in directory: /root/.cache/pip/wheels/2b/2c/0b/56aba27cc60071c52f66346a1abc22ee9db8c7376549aa4910\n",
            "  Building wheel for fusepy (setup.py) ... \u001b[?25l\u001b[?25hdone\n",
            "  Created wheel for fusepy: filename=fusepy-3.0.1-py3-none-any.whl size=10502 sha256=e2cc4ed32bddbeda677cab0bb74f2d177cac4e0125e1c2d700194d251c8c9e73\n",
            "  Stored in directory: /root/.cache/pip/wheels/89/07/84/a5ebfafeefbbc56ceda9d6935a54a8be7a4eccf4ea7e9bf980\n",
            "  Building wheel for shap (setup.py) ... \u001b[?25l\u001b[?25hdone\n",
            "  Created wheel for shap: filename=shap-0.39.0-cp37-cp37m-linux_x86_64.whl size=491648 sha256=019c3a6ef64db9108deb18505df5cd143a413d1194df6a44e2e8ba9affe43d5a\n",
            "  Stored in directory: /root/.cache/pip/wheels/ca/25/8f/6ae5df62c32651cd719e972e738a8aaa4a87414c4d2b14c9c0\n",
            "  Building wheel for smart-open (setup.py) ... \u001b[?25l\u001b[?25hdone\n",
            "  Created wheel for smart-open: filename=smart_open-1.9.0-py3-none-any.whl size=73094 sha256=75f2aa845b5921a407c3305b9a4dbeb5b99906c608efd1d1dfd58a960080fcfa\n",
            "  Stored in directory: /root/.cache/pip/wheels/1f/f6/d9/49cfa288fb14de91f127fb6f7a5a29f389c9588a41140107d9\n",
            "  Building wheel for wrapt (setup.py) ... \u001b[?25l\u001b[?25hdone\n",
            "  Created wheel for wrapt: filename=wrapt-1.12.1-cp37-cp37m-linux_x86_64.whl size=68723 sha256=14fd5464f0ec208b8df8442ba3546b5357854221918235c47cbbb5b3aa7adafd\n",
            "  Stored in directory: /root/.cache/pip/wheels/62/76/4c/aa25851149f3f6d9785f6c869387ad82b3fd37582fa8147ac6\n",
            "  Building wheel for fire (setup.py) ... \u001b[?25l\u001b[?25hdone\n",
            "  Created wheel for fire: filename=fire-0.4.0-py2.py3-none-any.whl size=115943 sha256=c9cfbfaeb334d92dca0ed2ac4ed78a7134a6ca1ad52c3f10f560ac03151b5e5c\n",
            "  Stored in directory: /root/.cache/pip/wheels/8a/67/fb/2e8a12fa16661b9d5af1f654bd199366799740a85c64981226\n",
            "  Building wheel for databricks-cli (setup.py) ... \u001b[?25l\u001b[?25hdone\n",
            "  Created wheel for databricks-cli: filename=databricks_cli-0.16.2-py3-none-any.whl size=106811 sha256=7831ea9fe1c3a500e41dcbb07543503366b81d2ead8f827d7d6b0fa2941bcd54\n",
            "  Stored in directory: /root/.cache/pip/wheels/f4/5c/ed/e1ce20a53095f63b27b4964abbad03e59cf3472822addf7d29\n",
            "Successfully built json-logging-py fusepy shap smart-open wrapt fire databricks-cli\n",
            "Installing collected packages: urllib3, PyYaml, numpy, distro, botocore, smmap, s3transfer, onnx, joblib, dotnetcore2, cloudpickle, azureml-dataprep-rslex, azureml-dataprep-native, azure-identity, wrapt, slicer, scikit-learn, pandas, onnxconverter-common, jinja2, interpret-core, gitdb, fire, boto3, boto, azureml-dataprep, applicationinsights, smart-open, skl2onnx, shap, locket, keras2onnx, inference-schema, gunicorn, gitpython, fusepy, flask, databricks-cli, azureml-train-restclients-hyperdrive, azureml-telemetry, azureml-dataset-runtime, sklearn-pandas, pmdarima, partd, onnxruntime, onnxmltools, nimbusml, mlflow-skinny, json-logging-py, interpret-community, fsspec, distributed, dataclasses, configparser, azureml-train-core, azureml-inference-server-http, azureml-automl-core, azureml-train-automl-client, azureml-mlflow, azureml-interpret, azureml-defaults, azureml-automl-runtime, azure-storage-queue, azureml-train-automl-runtime, azureml-train-automl\n",
            "  Attempting uninstall: urllib3\n",
            "    Found existing installation: urllib3 1.24.3\n",
            "    Uninstalling urllib3-1.24.3:\n",
            "      Successfully uninstalled urllib3-1.24.3\n",
            "  Attempting uninstall: PyYaml\n",
            "    Found existing installation: PyYAML 3.13\n",
            "    Uninstalling PyYAML-3.13:\n",
            "      Successfully uninstalled PyYAML-3.13\n",
            "  Attempting uninstall: numpy\n",
            "    Found existing installation: numpy 1.19.5\n",
            "    Uninstalling numpy-1.19.5:\n",
            "      Successfully uninstalled numpy-1.19.5\n",
            "  Attempting uninstall: joblib\n",
            "    Found existing installation: joblib 1.1.0\n",
            "    Uninstalling joblib-1.1.0:\n",
            "      Successfully uninstalled joblib-1.1.0\n",
            "  Attempting uninstall: cloudpickle\n",
            "    Found existing installation: cloudpickle 1.3.0\n",
            "    Uninstalling cloudpickle-1.3.0:\n",
            "      Successfully uninstalled cloudpickle-1.3.0\n",
            "  Attempting uninstall: wrapt\n",
            "    Found existing installation: wrapt 1.13.3\n",
            "    Uninstalling wrapt-1.13.3:\n",
            "      Successfully uninstalled wrapt-1.13.3\n",
            "  Attempting uninstall: scikit-learn\n",
            "    Found existing installation: scikit-learn 1.0.1\n",
            "    Uninstalling scikit-learn-1.0.1:\n",
            "      Successfully uninstalled scikit-learn-1.0.1\n",
            "  Attempting uninstall: pandas\n",
            "    Found existing installation: pandas 1.1.5\n",
            "    Uninstalling pandas-1.1.5:\n",
            "      Successfully uninstalled pandas-1.1.5\n",
            "  Attempting uninstall: jinja2\n",
            "    Found existing installation: Jinja2 2.11.3\n",
            "    Uninstalling Jinja2-2.11.3:\n",
            "      Successfully uninstalled Jinja2-2.11.3\n",
            "  Attempting uninstall: smart-open\n",
            "    Found existing installation: smart-open 5.2.1\n",
            "    Uninstalling smart-open-5.2.1:\n",
            "      Successfully uninstalled smart-open-5.2.1\n",
            "  Attempting uninstall: flask\n",
            "    Found existing installation: Flask 1.1.4\n",
            "    Uninstalling Flask-1.1.4:\n",
            "      Successfully uninstalled Flask-1.1.4\n",
            "  Attempting uninstall: sklearn-pandas\n",
            "    Found existing installation: sklearn-pandas 1.8.0\n",
            "    Uninstalling sklearn-pandas-1.8.0:\n",
            "      Successfully uninstalled sklearn-pandas-1.8.0\n",
            "  Attempting uninstall: distributed\n",
            "    Found existing installation: distributed 1.25.3\n",
            "    Uninstalling distributed-1.25.3:\n",
            "      Successfully uninstalled distributed-1.25.3\n",
            "\u001b[31mERROR: pip's dependency resolver does not currently take into account all the packages that are installed. This behaviour is the source of the following dependency conflicts.\n",
            "xarray 0.18.2 requires pandas>=1.0, but you have pandas 0.25.3 which is incompatible.\n",
            "imbalanced-learn 0.8.1 requires scikit-learn>=0.24, but you have scikit-learn 0.22.2.post1 which is incompatible.\n",
            "google-colab 1.0.0 requires pandas~=1.1.0; python_version >= \"3.0\", but you have pandas 0.25.3 which is incompatible.\n",
            "fbprophet 0.7.1 requires pandas>=1.0.4, but you have pandas 0.25.3 which is incompatible.\n",
            "datascience 0.10.6 requires folium==0.2.1, but you have folium 0.8.3 which is incompatible.\n",
            "albumentations 0.1.12 requires imgaug<0.2.7,>=0.2.5, but you have imgaug 0.2.9 which is incompatible.\u001b[0m\n",
            "Successfully installed PyYaml-6.0 applicationinsights-0.11.10 azure-identity-1.7.0 azure-storage-queue-12.1.6 azureml-automl-core-1.37.0 azureml-automl-runtime-1.37.0 azureml-dataprep-2.25.2 azureml-dataprep-native-38.0.0 azureml-dataprep-rslex-2.1.1 azureml-dataset-runtime-1.37.0 azureml-defaults-1.37.0 azureml-inference-server-http-0.4.2 azureml-interpret-1.37.0 azureml-mlflow-1.37.0 azureml-telemetry-1.37.0 azureml-train-automl-1.37.0 azureml-train-automl-client-1.37.0 azureml-train-automl-runtime-1.37.0 azureml-train-core-1.37.0 azureml-train-restclients-hyperdrive-1.37.0 boto-2.49.0 boto3-1.20.19 botocore-1.23.19 cloudpickle-1.6.0 configparser-3.7.4 databricks-cli-0.16.2 dataclasses-0.6 distributed-2.30.1 distro-1.6.0 dotnetcore2-2.1.22 fire-0.4.0 flask-1.0.3 fsspec-2021.11.1 fusepy-3.0.1 gitdb-4.0.9 gitpython-3.1.25 gunicorn-20.1.0 inference-schema-1.3.0 interpret-community-0.22.0 interpret-core-0.2.7 jinja2-2.11.2 joblib-0.14.1 json-logging-py-0.2 keras2onnx-1.6.0 locket-0.2.1 mlflow-skinny-1.22.0 nimbusml-1.8.0 numpy-1.18.5 onnx-1.7.0 onnxconverter-common-1.6.0 onnxmltools-1.4.1 onnxruntime-1.8.0 pandas-0.25.3 partd-1.2.0 pmdarima-1.1.1 s3transfer-0.5.0 scikit-learn-0.22.2.post1 shap-0.39.0 skl2onnx-1.4.9 sklearn-pandas-1.7.0 slicer-0.0.7 smart-open-1.9.0 smmap-5.0.0 urllib3-1.25.11 wrapt-1.12.1\n"
          ]
        },
        {
          "output_type": "display_data",
          "data": {
            "application/vnd.colab-display-data+json": {
              "pip_warning": {
                "packages": [
                  "numpy",
                  "pandas"
                ]
              }
            }
          },
          "metadata": {}
        }
      ]
    },
    {
      "cell_type": "code",
      "source": [
        "!pip install azureml-widgets"
      ],
      "metadata": {
        "colab": {
          "base_uri": "https://localhost:8080/",
          "height": 1000
        },
        "id": "bh8QjAGGbD0Z",
        "outputId": "210b7762-ebd2-43e4-e184-f2a507fece01"
      },
      "execution_count": 11,
      "outputs": [
        {
          "output_type": "stream",
          "name": "stdout",
          "text": [
            "Collecting azureml-widgets\n",
            "  Downloading azureml_widgets-1.37.0-py3-none-any.whl (14.2 MB)\n",
            "\u001b[K     |████████████████████████████████| 14.2 MB 5.0 MB/s \n",
            "\u001b[?25hRequirement already satisfied: ipywidgets>=7.0.0 in /usr/local/lib/python3.7/dist-packages (from azureml-widgets) (7.6.5)\n",
            "Requirement already satisfied: azureml-telemetry~=1.37.0 in /usr/local/lib/python3.7/dist-packages (from azureml-widgets) (1.37.0)\n",
            "Requirement already satisfied: azureml-core~=1.37.0 in /usr/local/lib/python3.7/dist-packages (from azureml-widgets) (1.37.0.post1)\n",
            "Collecting azure-storage-blob>=12.6.0\n",
            "  Downloading azure_storage_blob-12.9.0-py2.py3-none-any.whl (356 kB)\n",
            "\u001b[K     |████████████████████████████████| 356 kB 52.2 MB/s \n",
            "\u001b[?25hRequirement already satisfied: cryptography>=2.1.4 in /usr/local/lib/python3.7/dist-packages (from azure-storage-blob>=12.6.0->azureml-widgets) (3.4.8)\n",
            "Requirement already satisfied: msrest>=0.6.21 in /usr/local/lib/python3.7/dist-packages (from azure-storage-blob>=12.6.0->azureml-widgets) (0.6.21)\n",
            "Requirement already satisfied: azure-core<2.0.0,>=1.10.0 in /usr/local/lib/python3.7/dist-packages (from azure-storage-blob>=12.6.0->azureml-widgets) (1.20.1)\n",
            "Requirement already satisfied: requests>=2.18.4 in /usr/local/lib/python3.7/dist-packages (from azure-core<2.0.0,>=1.10.0->azure-storage-blob>=12.6.0->azureml-widgets) (2.23.0)\n",
            "Requirement already satisfied: six>=1.11.0 in /usr/local/lib/python3.7/dist-packages (from azure-core<2.0.0,>=1.10.0->azure-storage-blob>=12.6.0->azureml-widgets) (1.15.0)\n",
            "Requirement already satisfied: pkginfo in /usr/local/lib/python3.7/dist-packages (from azureml-core~=1.37.0->azureml-widgets) (1.8.2)\n",
            "Requirement already satisfied: jsonpickle<3.0.0 in /usr/local/lib/python3.7/dist-packages (from azureml-core~=1.37.0->azureml-widgets) (2.0.0)\n",
            "Requirement already satisfied: python-dateutil<3.0.0,>=2.7.3 in /usr/local/lib/python3.7/dist-packages (from azureml-core~=1.37.0->azureml-widgets) (2.8.2)\n",
            "Requirement already satisfied: msal<2.0.0,>=1.15.0 in /usr/local/lib/python3.7/dist-packages (from azureml-core~=1.37.0->azureml-widgets) (1.16.0)\n",
            "Requirement already satisfied: pyopenssl<22.0.0 in /usr/local/lib/python3.7/dist-packages (from azureml-core~=1.37.0->azureml-widgets) (21.0.0)\n",
            "Requirement already satisfied: pytz in /usr/local/lib/python3.7/dist-packages (from azureml-core~=1.37.0->azureml-widgets) (2018.9)\n",
            "Requirement already satisfied: packaging<22.0 in /usr/local/lib/python3.7/dist-packages (from azureml-core~=1.37.0->azureml-widgets) (21.3)\n",
            "Requirement already satisfied: PyJWT<3.0.0 in /usr/local/lib/python3.7/dist-packages (from azureml-core~=1.37.0->azureml-widgets) (2.3.0)\n",
            "Requirement already satisfied: azure-mgmt-containerregistry>=2.0.0 in /usr/local/lib/python3.7/dist-packages (from azureml-core~=1.37.0->azureml-widgets) (8.2.0)\n",
            "Requirement already satisfied: azure-graphrbac<1.0.0,>=0.40.0 in /usr/local/lib/python3.7/dist-packages (from azureml-core~=1.37.0->azureml-widgets) (0.61.1)\n",
            "Requirement already satisfied: azure-mgmt-authorization<1.0.0,>=0.40.0 in /usr/local/lib/python3.7/dist-packages (from azureml-core~=1.37.0->azureml-widgets) (0.61.0)\n",
            "Requirement already satisfied: ndg-httpsclient<=0.5.1 in /usr/local/lib/python3.7/dist-packages (from azureml-core~=1.37.0->azureml-widgets) (0.5.1)\n",
            "Requirement already satisfied: SecretStorage<4.0.0 in /usr/local/lib/python3.7/dist-packages (from azureml-core~=1.37.0->azureml-widgets) (3.3.1)\n",
            "Requirement already satisfied: azure-mgmt-storage<20.0.0,>=16.0.0 in /usr/local/lib/python3.7/dist-packages (from azureml-core~=1.37.0->azureml-widgets) (19.0.0)\n",
            "Requirement already satisfied: msal-extensions<0.4,>=0.3.0 in /usr/local/lib/python3.7/dist-packages (from azureml-core~=1.37.0->azureml-widgets) (0.3.1)\n",
            "Requirement already satisfied: paramiko<3.0.0,>=2.0.8 in /usr/local/lib/python3.7/dist-packages (from azureml-core~=1.37.0->azureml-widgets) (2.9.2)\n",
            "Requirement already satisfied: docker<6.0.0 in /usr/local/lib/python3.7/dist-packages (from azureml-core~=1.37.0->azureml-widgets) (5.0.3)\n",
            "Requirement already satisfied: jmespath<1.0.0 in /usr/local/lib/python3.7/dist-packages (from azureml-core~=1.37.0->azureml-widgets) (0.10.0)\n",
            "Requirement already satisfied: urllib3<=1.26.7,>=1.23 in /usr/local/lib/python3.7/dist-packages (from azureml-core~=1.37.0->azureml-widgets) (1.25.11)\n",
            "Requirement already satisfied: adal<=1.2.7,>=1.2.0 in /usr/local/lib/python3.7/dist-packages (from azureml-core~=1.37.0->azureml-widgets) (1.2.7)\n",
            "Requirement already satisfied: azure-common<2.0.0,>=1.1.12 in /usr/local/lib/python3.7/dist-packages (from azureml-core~=1.37.0->azureml-widgets) (1.1.27)\n",
            "Requirement already satisfied: knack~=0.8.2 in /usr/local/lib/python3.7/dist-packages (from azureml-core~=1.37.0->azureml-widgets) (0.8.2)\n",
            "Requirement already satisfied: msrestazure<=0.6.4,>=0.4.33 in /usr/local/lib/python3.7/dist-packages (from azureml-core~=1.37.0->azureml-widgets) (0.6.4)\n",
            "Requirement already satisfied: azure-mgmt-keyvault<10.0.0,>=0.40.0 in /usr/local/lib/python3.7/dist-packages (from azureml-core~=1.37.0->azureml-widgets) (9.3.0)\n",
            "Requirement already satisfied: azure-mgmt-resource<20.0.0,>=15.0.0 in /usr/local/lib/python3.7/dist-packages (from azureml-core~=1.37.0->azureml-widgets) (19.0.0)\n",
            "Requirement already satisfied: contextlib2<22.0.0 in /usr/local/lib/python3.7/dist-packages (from azureml-core~=1.37.0->azureml-widgets) (0.5.5)\n",
            "Requirement already satisfied: argcomplete~=1.8 in /usr/local/lib/python3.7/dist-packages (from azureml-core~=1.37.0->azureml-widgets) (1.12.3)\n",
            "Requirement already satisfied: pathspec<1.0.0 in /usr/local/lib/python3.7/dist-packages (from azureml-core~=1.37.0->azureml-widgets) (0.9.0)\n",
            "Requirement already satisfied: humanfriendly<10.0,>=4.7 in /usr/local/lib/python3.7/dist-packages (from azureml-core~=1.37.0->azureml-widgets) (9.2)\n",
            "Requirement already satisfied: backports.tempfile in /usr/local/lib/python3.7/dist-packages (from azureml-core~=1.37.0->azureml-widgets) (1.0)\n",
            "Requirement already satisfied: importlib-metadata<5,>=0.23 in /usr/local/lib/python3.7/dist-packages (from argcomplete~=1.8->azureml-core~=1.37.0->azureml-widgets) (4.8.2)\n",
            "Requirement already satisfied: azure-mgmt-core<2.0.0,>=1.2.0 in /usr/local/lib/python3.7/dist-packages (from azure-mgmt-containerregistry>=2.0.0->azureml-core~=1.37.0->azureml-widgets) (1.3.0)\n",
            "Requirement already satisfied: applicationinsights in /usr/local/lib/python3.7/dist-packages (from azureml-telemetry~=1.37.0->azureml-widgets) (0.11.10)\n",
            "Requirement already satisfied: cffi>=1.12 in /usr/local/lib/python3.7/dist-packages (from cryptography>=2.1.4->azure-storage-blob>=12.6.0->azureml-widgets) (1.15.0)\n",
            "Requirement already satisfied: pycparser in /usr/local/lib/python3.7/dist-packages (from cffi>=1.12->cryptography>=2.1.4->azure-storage-blob>=12.6.0->azureml-widgets) (2.21)\n",
            "Requirement already satisfied: websocket-client>=0.32.0 in /usr/local/lib/python3.7/dist-packages (from docker<6.0.0->azureml-core~=1.37.0->azureml-widgets) (1.2.3)\n",
            "Requirement already satisfied: zipp>=0.5 in /usr/local/lib/python3.7/dist-packages (from importlib-metadata<5,>=0.23->argcomplete~=1.8->azureml-core~=1.37.0->azureml-widgets) (3.6.0)\n",
            "Requirement already satisfied: typing-extensions>=3.6.4 in /usr/local/lib/python3.7/dist-packages (from importlib-metadata<5,>=0.23->argcomplete~=1.8->azureml-core~=1.37.0->azureml-widgets) (3.10.0.2)\n",
            "Requirement already satisfied: jupyterlab-widgets>=1.0.0 in /usr/local/lib/python3.7/dist-packages (from ipywidgets>=7.0.0->azureml-widgets) (1.0.2)\n",
            "Requirement already satisfied: traitlets>=4.3.1 in /usr/local/lib/python3.7/dist-packages (from ipywidgets>=7.0.0->azureml-widgets) (5.1.1)\n",
            "Requirement already satisfied: ipykernel>=4.5.1 in /usr/local/lib/python3.7/dist-packages (from ipywidgets>=7.0.0->azureml-widgets) (4.10.1)\n",
            "Requirement already satisfied: widgetsnbextension~=3.5.0 in /usr/local/lib/python3.7/dist-packages (from ipywidgets>=7.0.0->azureml-widgets) (3.5.2)\n",
            "Requirement already satisfied: ipython>=4.0.0 in /usr/local/lib/python3.7/dist-packages (from ipywidgets>=7.0.0->azureml-widgets) (5.5.0)\n",
            "Requirement already satisfied: nbformat>=4.2.0 in /usr/local/lib/python3.7/dist-packages (from ipywidgets>=7.0.0->azureml-widgets) (5.1.3)\n",
            "Requirement already satisfied: ipython-genutils~=0.2.0 in /usr/local/lib/python3.7/dist-packages (from ipywidgets>=7.0.0->azureml-widgets) (0.2.0)\n",
            "Requirement already satisfied: jupyter-client in /usr/local/lib/python3.7/dist-packages (from ipykernel>=4.5.1->ipywidgets>=7.0.0->azureml-widgets) (5.3.5)\n",
            "Requirement already satisfied: tornado>=4.0 in /usr/local/lib/python3.7/dist-packages (from ipykernel>=4.5.1->ipywidgets>=7.0.0->azureml-widgets) (5.1.1)\n",
            "Requirement already satisfied: simplegeneric>0.8 in /usr/local/lib/python3.7/dist-packages (from ipython>=4.0.0->ipywidgets>=7.0.0->azureml-widgets) (0.8.1)\n",
            "Requirement already satisfied: setuptools>=18.5 in /usr/local/lib/python3.7/dist-packages (from ipython>=4.0.0->ipywidgets>=7.0.0->azureml-widgets) (57.4.0)\n",
            "Requirement already satisfied: decorator in /usr/local/lib/python3.7/dist-packages (from ipython>=4.0.0->ipywidgets>=7.0.0->azureml-widgets) (4.4.2)\n",
            "Requirement already satisfied: pygments in /usr/local/lib/python3.7/dist-packages (from ipython>=4.0.0->ipywidgets>=7.0.0->azureml-widgets) (2.6.1)\n",
            "Requirement already satisfied: pexpect in /usr/local/lib/python3.7/dist-packages (from ipython>=4.0.0->ipywidgets>=7.0.0->azureml-widgets) (4.8.0)\n",
            "Requirement already satisfied: prompt-toolkit<2.0.0,>=1.0.4 in /usr/local/lib/python3.7/dist-packages (from ipython>=4.0.0->ipywidgets>=7.0.0->azureml-widgets) (1.0.18)\n",
            "Requirement already satisfied: pickleshare in /usr/local/lib/python3.7/dist-packages (from ipython>=4.0.0->ipywidgets>=7.0.0->azureml-widgets) (0.7.5)\n",
            "Requirement already satisfied: pyyaml in /usr/local/lib/python3.7/dist-packages (from knack~=0.8.2->azureml-core~=1.37.0->azureml-widgets) (6.0)\n",
            "Requirement already satisfied: tabulate in /usr/local/lib/python3.7/dist-packages (from knack~=0.8.2->azureml-core~=1.37.0->azureml-widgets) (0.8.9)\n",
            "Requirement already satisfied: colorama in /usr/local/lib/python3.7/dist-packages (from knack~=0.8.2->azureml-core~=1.37.0->azureml-widgets) (0.4.4)\n",
            "Requirement already satisfied: portalocker<3,>=1.0 in /usr/local/lib/python3.7/dist-packages (from msal-extensions<0.4,>=0.3.0->azureml-core~=1.37.0->azureml-widgets) (2.3.2)\n",
            "Requirement already satisfied: isodate>=0.6.0 in /usr/local/lib/python3.7/dist-packages (from msrest>=0.6.21->azure-storage-blob>=12.6.0->azureml-widgets) (0.6.1)\n",
            "Requirement already satisfied: certifi>=2017.4.17 in /usr/local/lib/python3.7/dist-packages (from msrest>=0.6.21->azure-storage-blob>=12.6.0->azureml-widgets) (2021.10.8)\n",
            "Requirement already satisfied: requests-oauthlib>=0.5.0 in /usr/local/lib/python3.7/dist-packages (from msrest>=0.6.21->azure-storage-blob>=12.6.0->azureml-widgets) (1.3.0)\n",
            "Requirement already satisfied: jupyter-core in /usr/local/lib/python3.7/dist-packages (from nbformat>=4.2.0->ipywidgets>=7.0.0->azureml-widgets) (4.9.1)\n",
            "Requirement already satisfied: jsonschema!=2.5.0,>=2.4 in /usr/local/lib/python3.7/dist-packages (from nbformat>=4.2.0->ipywidgets>=7.0.0->azureml-widgets) (2.6.0)\n",
            "Requirement already satisfied: pyasn1>=0.1.1 in /usr/local/lib/python3.7/dist-packages (from ndg-httpsclient<=0.5.1->azureml-core~=1.37.0->azureml-widgets) (0.4.8)\n",
            "Requirement already satisfied: pyparsing!=3.0.5,>=2.0.2 in /usr/local/lib/python3.7/dist-packages (from packaging<22.0->azureml-core~=1.37.0->azureml-widgets) (3.0.6)\n",
            "Requirement already satisfied: bcrypt>=3.1.3 in /usr/local/lib/python3.7/dist-packages (from paramiko<3.0.0,>=2.0.8->azureml-core~=1.37.0->azureml-widgets) (3.2.0)\n",
            "Requirement already satisfied: pynacl>=1.0.1 in /usr/local/lib/python3.7/dist-packages (from paramiko<3.0.0,>=2.0.8->azureml-core~=1.37.0->azureml-widgets) (1.5.0)\n",
            "Requirement already satisfied: wcwidth in /usr/local/lib/python3.7/dist-packages (from prompt-toolkit<2.0.0,>=1.0.4->ipython>=4.0.0->ipywidgets>=7.0.0->azureml-widgets) (0.2.5)\n",
            "Requirement already satisfied: idna<3,>=2.5 in /usr/local/lib/python3.7/dist-packages (from requests>=2.18.4->azure-core<2.0.0,>=1.10.0->azure-storage-blob>=12.6.0->azureml-widgets) (2.10)\n",
            "Requirement already satisfied: chardet<4,>=3.0.2 in /usr/local/lib/python3.7/dist-packages (from requests>=2.18.4->azure-core<2.0.0,>=1.10.0->azure-storage-blob>=12.6.0->azureml-widgets) (3.0.4)\n",
            "Requirement already satisfied: oauthlib>=3.0.0 in /usr/local/lib/python3.7/dist-packages (from requests-oauthlib>=0.5.0->msrest>=0.6.21->azure-storage-blob>=12.6.0->azureml-widgets) (3.1.1)\n",
            "Requirement already satisfied: PySocks!=1.5.7,>=1.5.6 in /usr/local/lib/python3.7/dist-packages (from requests>=2.18.4->azure-core<2.0.0,>=1.10.0->azure-storage-blob>=12.6.0->azureml-widgets) (1.7.1)\n",
            "Requirement already satisfied: jeepney>=0.6 in /usr/local/lib/python3.7/dist-packages (from SecretStorage<4.0.0->azureml-core~=1.37.0->azureml-widgets) (0.7.1)\n",
            "Requirement already satisfied: notebook>=4.4.1 in /usr/local/lib/python3.7/dist-packages (from widgetsnbextension~=3.5.0->ipywidgets>=7.0.0->azureml-widgets) (5.3.1)\n",
            "Requirement already satisfied: Send2Trash in /usr/local/lib/python3.7/dist-packages (from notebook>=4.4.1->widgetsnbextension~=3.5.0->ipywidgets>=7.0.0->azureml-widgets) (1.8.0)\n",
            "Requirement already satisfied: nbconvert in /usr/local/lib/python3.7/dist-packages (from notebook>=4.4.1->widgetsnbextension~=3.5.0->ipywidgets>=7.0.0->azureml-widgets) (5.6.1)\n",
            "Requirement already satisfied: jinja2 in /usr/local/lib/python3.7/dist-packages (from notebook>=4.4.1->widgetsnbextension~=3.5.0->ipywidgets>=7.0.0->azureml-widgets) (2.11.2)\n",
            "Requirement already satisfied: terminado>=0.8.1 in /usr/local/lib/python3.7/dist-packages (from notebook>=4.4.1->widgetsnbextension~=3.5.0->ipywidgets>=7.0.0->azureml-widgets) (0.12.1)\n",
            "Requirement already satisfied: pyzmq>=13 in /usr/local/lib/python3.7/dist-packages (from jupyter-client->ipykernel>=4.5.1->ipywidgets>=7.0.0->azureml-widgets) (22.3.0)\n",
            "Requirement already satisfied: ptyprocess in /usr/local/lib/python3.7/dist-packages (from terminado>=0.8.1->notebook>=4.4.1->widgetsnbextension~=3.5.0->ipywidgets>=7.0.0->azureml-widgets) (0.7.0)\n",
            "Requirement already satisfied: backports.weakref in /usr/local/lib/python3.7/dist-packages (from backports.tempfile->azureml-core~=1.37.0->azureml-widgets) (1.0.post1)\n",
            "Requirement already satisfied: MarkupSafe>=0.23 in /usr/local/lib/python3.7/dist-packages (from jinja2->notebook>=4.4.1->widgetsnbextension~=3.5.0->ipywidgets>=7.0.0->azureml-widgets) (2.0.1)\n",
            "Requirement already satisfied: bleach in /usr/local/lib/python3.7/dist-packages (from nbconvert->notebook>=4.4.1->widgetsnbextension~=3.5.0->ipywidgets>=7.0.0->azureml-widgets) (4.1.0)\n",
            "Requirement already satisfied: mistune<2,>=0.8.1 in /usr/local/lib/python3.7/dist-packages (from nbconvert->notebook>=4.4.1->widgetsnbextension~=3.5.0->ipywidgets>=7.0.0->azureml-widgets) (0.8.4)\n",
            "Requirement already satisfied: testpath in /usr/local/lib/python3.7/dist-packages (from nbconvert->notebook>=4.4.1->widgetsnbextension~=3.5.0->ipywidgets>=7.0.0->azureml-widgets) (0.5.0)\n",
            "Requirement already satisfied: defusedxml in /usr/local/lib/python3.7/dist-packages (from nbconvert->notebook>=4.4.1->widgetsnbextension~=3.5.0->ipywidgets>=7.0.0->azureml-widgets) (0.7.1)\n",
            "Requirement already satisfied: entrypoints>=0.2.2 in /usr/local/lib/python3.7/dist-packages (from nbconvert->notebook>=4.4.1->widgetsnbextension~=3.5.0->ipywidgets>=7.0.0->azureml-widgets) (0.3)\n",
            "Requirement already satisfied: pandocfilters>=1.4.1 in /usr/local/lib/python3.7/dist-packages (from nbconvert->notebook>=4.4.1->widgetsnbextension~=3.5.0->ipywidgets>=7.0.0->azureml-widgets) (1.5.0)\n",
            "Requirement already satisfied: webencodings in /usr/local/lib/python3.7/dist-packages (from bleach->nbconvert->notebook>=4.4.1->widgetsnbextension~=3.5.0->ipywidgets>=7.0.0->azureml-widgets) (0.5.1)\n",
            "Installing collected packages: azure-storage-blob, azureml-widgets\n",
            "Successfully installed azure-storage-blob-12.9.0 azureml-widgets-1.37.0\n"
          ]
        },
        {
          "output_type": "display_data",
          "data": {
            "application/vnd.colab-display-data+json": {
              "pip_warning": {
                "packages": [
                  "azure",
                  "azureml"
                ]
              }
            }
          },
          "metadata": {}
        }
      ]
    },
    {
      "cell_type": "code",
      "execution_count": 3,
      "metadata": {
        "colab": {
          "base_uri": "https://localhost:8080/"
        },
        "id": "D3tUVizxv6co",
        "outputId": "d3c39c2f-d3e1-4555-e7cf-18b18e68b972"
      },
      "outputs": [
        {
          "output_type": "stream",
          "name": "stdout",
          "text": [
            "1.37.0\n"
          ]
        }
      ],
      "source": [
        "import azureml.core\n",
        "print(azureml.core.VERSION)"
      ]
    },
    {
      "cell_type": "code",
      "source": [
        "import azureml.core\n",
        "\n",
        "from azureml.core import Workspace, Experiment\n",
        "from azureml.core.compute import ComputeTarget, AmlCompute\n",
        "from azureml.core.compute_target import ComputeTargetException\n",
        "from azureml.core import Dataset\n",
        "from azureml.core.experiment import Experiment\n",
        "from azureml.core.model import Model\n",
        "from azureml.train.automl import AutoMLConfig\n",
        "\n",
        "from datetime import datetime\n",
        "from dateutil.relativedelta import relativedelta\n",
        "\n",
        "import logging\n",
        "import os \n",
        "import warnings\n",
        "warnings.simplefilter(\"ignore\")"
      ],
      "metadata": {
        "id": "wFXZoTBnwalL"
      },
      "execution_count": 12,
      "outputs": []
    },
    {
      "cell_type": "markdown",
      "source": [
        "**Create Workspace**"
      ],
      "metadata": {
        "id": "lOjWsY320l4k"
      }
    },
    {
      "cell_type": "code",
      "source": [
        "ws = Workspace.create(\n",
        "    name=\"Diabetes_Detection\", \n",
        "    subscription_id=private_subscription_id,\n",
        "    resource_group=\"future_ready\",\n",
        "    create_resource_group=True,\n",
        "    location=\"eastus\",\n",
        "    sku='enterprise'\n",
        ")"
      ],
      "metadata": {
        "colab": {
          "base_uri": "https://localhost:8080/"
        },
        "id": "MQsWL10Nzunl",
        "outputId": "89e3b8c1-8863-4ed3-b2c9-890472bbee23"
      },
      "execution_count": null,
      "outputs": [
        {
          "output_type": "stream",
          "name": "stdout",
          "text": [
            "Performing interactive authentication. Please follow the instructions on the terminal.\n"
          ]
        },
        {
          "output_type": "stream",
          "name": "stderr",
          "text": [
            "To sign in, use a web browser to open the page https://microsoft.com/devicelogin and enter the code ENNFDSRXX to authenticate.\n"
          ]
        },
        {
          "output_type": "stream",
          "name": "stdout",
          "text": [
            "Interactive authentication successfully completed.\n",
            "Deploying StorageAccount with name diabetesstorage4a9ddc64f.\n",
            "Deploying KeyVault with name diabeteskeyvaultce3fa711.\n",
            "Deploying AppInsights with name diabetesinsightsbef97f8e.\n",
            "Deployed AppInsights with name diabetesinsightsbef97f8e. Took 75.06 seconds.\n",
            "Deployed KeyVault with name diabeteskeyvaultce3fa711. Took 85.52 seconds.\n",
            "Deployed StorageAccount with name diabetesstorage4a9ddc64f. Took 90.69 seconds.\n",
            "Deploying Workspace with name Diabetes_Detection.\n",
            "Deployed Workspace with name Diabetes_Detection. Took 82.9 seconds.\n"
          ]
        }
      ]
    },
    {
      "cell_type": "code",
      "source": [
        "ws = Workspace.get(\n",
        "    name=\"Diabetes_Detection\", \n",
        "    subscription_id=private_subscription_id,\n",
        "    resource_group=\"future_ready\"\n",
        ")"
      ],
      "metadata": {
        "id": "S-o06_cVACFZ"
      },
      "execution_count": 2,
      "outputs": []
    },
    {
      "cell_type": "code",
      "source": [
        "def_blob_store = ws.get_default_datastore()\n",
        "def_blob_store.upload_files([\"diabetes.csv\"], target_path=\"data\", overwrite=True)\n",
        "diabetes_data = Dataset.Tabular.from_delimited_files(def_blob_store.path('./data/diabetes.csv'))\n",
        "diabetes_data = diabetes_data.register(ws, 'diabetes_data', create_new_version=True)"
      ],
      "metadata": {
        "colab": {
          "base_uri": "https://localhost:8080/"
        },
        "id": "gYpcHFIX3kwP",
        "outputId": "5e1d801f-e30b-4bb8-b00e-f1fd8e426337"
      },
      "execution_count": 3,
      "outputs": [
        {
          "output_type": "stream",
          "name": "stderr",
          "text": [
            "\"datastore.upload_files\" is deprecated after version 1.0.69. Please use \"FileDatasetFactory.upload_directory\" instead. See Dataset API change notice at https://aka.ms/dataset-deprecation.\n"
          ]
        },
        {
          "output_type": "stream",
          "name": "stdout",
          "text": [
            "Uploading an estimated of 1 files\n",
            "Uploading diabetes.csv\n",
            "Uploaded diabetes.csv, 1 files out of an estimated total of 1\n",
            "Uploaded 1 files\n"
          ]
        }
      ]
    },
    {
      "cell_type": "code",
      "source": [
        "aml_compute_target = \"diabetes-Cluster\"\n",
        "try:\n",
        "  aml_compute = AmlCompute(ws, aml_compute_target)\n",
        "  print(\"Existing Compute Traget Found\")\n",
        "except ComputeTargetException:\n",
        "  print(\"Creating New Compute Instance... \")\n",
        "  provisioning_config = AmlCompute.provisioning_configuration(vm_size = \"STANDARD_D2_V2\",\n",
        "                                                              min_nodes = 0,\n",
        "                                                              max_nodes = 4)\n",
        "  ml_compute = ComputeTarget.create(ws, aml_compute_target, provisioning_config)\n",
        "  ml_compute.wait_for_completion(show_output=True, min_node_count=None, timeout_in_minutes=20)\n",
        "\n",
        "print(\"Azure Machine Learning Compute Successfully Attached\")"
      ],
      "metadata": {
        "colab": {
          "base_uri": "https://localhost:8080/"
        },
        "id": "rc2aHQVH9CjV",
        "outputId": "44a9ac2e-5154-4cfc-9365-7a2ca8f61502"
      },
      "execution_count": 4,
      "outputs": [
        {
          "output_type": "stream",
          "name": "stdout",
          "text": [
            "Existing Compute Traget Found\n",
            "Azure Machine Learning Compute Successfully Attached\n"
          ]
        }
      ]
    },
    {
      "cell_type": "code",
      "source": [
        "automl_settings = {\n",
        "    \"iterations\": 20,\n",
        "    \"primary_metric\": \"AUC_weighted\",\n",
        "    \"featurization\": \"auto\",\n",
        "    \"verbosity\": logging.INFO,\n",
        "    \"iteration_timeout_minutes\": 10,\n",
        "    \"n_cross_validations\": 2\n",
        "}"
      ],
      "metadata": {
        "id": "qT0J-b7x_zXh"
      },
      "execution_count": 5,
      "outputs": []
    },
    {
      "cell_type": "code",
      "source": [
        "automl_config = AutoMLConfig(task=\"classification\",\n",
        "                             debug_log=\"automated_ml_errors.log\",\n",
        "                             path=\"./content\",\n",
        "                             training_data=diabetes_data,\n",
        "                             compute_target=aml_compute_target,\n",
        "                             label_column_name=\"class\",\n",
        "                             **automl_settings)"
      ],
      "metadata": {
        "id": "86xEdDNRAkaI"
      },
      "execution_count": 6,
      "outputs": []
    },
    {
      "cell_type": "code",
      "source": [
        "experiment = Experiment(ws, \"diabetes-experiment\")\n",
        "remote_run = experiment.submit(automl_config, show_output=True)\n",
        "remote_run"
      ],
      "metadata": {
        "colab": {
          "base_uri": "https://localhost:8080/",
          "height": 1000
        },
        "id": "KQNpXZjEBb8p",
        "outputId": "5c9e5631-7e02-4d36-deeb-6c699a6fb5b3"
      },
      "execution_count": 7,
      "outputs": [
        {
          "output_type": "stream",
          "name": "stdout",
          "text": [
            "Submitting remote run.\n",
            "No run_configuration provided, running on diabetes-Cluster with default configuration\n",
            "Running on remote compute: diabetes-Cluster\n"
          ]
        },
        {
          "output_type": "display_data",
          "data": {
            "text/html": [
              "<table style=\"width:100%\"><tr><th>Experiment</th><th>Id</th><th>Type</th><th>Status</th><th>Details Page</th><th>Docs Page</th></tr><tr><td>diabetes-experiment</td><td>AutoML_08bd5b35-d2cb-4426-8313-a77c644d5977</td><td>automl</td><td>NotStarted</td><td><a href=\"https://ml.azure.com/runs/AutoML_08bd5b35-d2cb-4426-8313-a77c644d5977?wsid=/subscriptions/bfd06ac3-2202-444b-8ae5-ede549970bf5/resourcegroups/future_ready/workspaces/Diabetes_Detection&amp;tid=065e654f-7001-4689-8e59-abfa650a852c\" target=\"_blank\" rel=\"noopener\">Link to Azure Machine Learning studio</a></td><td><a href=\"https://docs.microsoft.com/en-us/python/api/overview/azure/ml/intro?view=azure-ml-py\" target=\"_blank\" rel=\"noopener\">Link to Documentation</a></td></tr></table>"
            ],
            "text/plain": [
              "<IPython.core.display.HTML object>"
            ]
          },
          "metadata": {}
        },
        {
          "output_type": "stream",
          "name": "stdout",
          "text": [
            "\n",
            "Current status: FeaturesGeneration. Generating features for the dataset.\n",
            "Current status: DatasetCrossValidationSplit. Generating individually featurized CV splits.\n",
            "Current status: ModelSelection. Beginning model selection.\n",
            "\n",
            "********************************************************************************************\n",
            "DATA GUARDRAILS: \n",
            "\n",
            "TYPE:         Class balancing detection\n",
            "STATUS:       PASSED\n",
            "DESCRIPTION:  Your inputs were analyzed, and all classes are balanced in your training data.\n",
            "              Learn more about imbalanced data: https://aka.ms/AutomatedMLImbalancedData\n",
            "\n",
            "********************************************************************************************\n",
            "\n",
            "TYPE:         Missing feature values imputation\n",
            "STATUS:       PASSED\n",
            "DESCRIPTION:  No feature missing values were detected in the training data.\n",
            "              Learn more about missing value imputation: https://aka.ms/AutomatedMLFeaturization\n",
            "\n",
            "********************************************************************************************\n",
            "\n",
            "TYPE:         High cardinality feature detection\n",
            "STATUS:       PASSED\n",
            "DESCRIPTION:  Your inputs were analyzed, and no high cardinality features were detected.\n",
            "              Learn more about high cardinality feature handling: https://aka.ms/AutomatedMLFeaturization\n",
            "\n",
            "********************************************************************************************\n",
            "\n",
            "********************************************************************************************\n",
            "ITER: The iteration being evaluated.\n",
            "PIPELINE: A summary description of the pipeline being evaluated.\n",
            "DURATION: Time taken for the current iteration.\n",
            "METRIC: The result of computing score on the fitted pipeline.\n",
            "BEST: The best observed score thus far.\n",
            "********************************************************************************************\n",
            "\n",
            " ITER   PIPELINE                                       DURATION            METRIC      BEST\n",
            "    0   MaxAbsScaler LightGBM                          0:00:18             0.8010    0.8010\n",
            "    1   MaxAbsScaler XGBoostClassifier                 0:00:19             0.8231    0.8231\n",
            "    2   MaxAbsScaler ExtremeRandomTrees                0:00:19             0.8207    0.8231\n",
            "    3   MaxAbsScaler RandomForest                      0:00:20             0.8070    0.8231\n",
            "    4   StandardScalerWrapper LightGBM                 0:00:20             0.8312    0.8312\n",
            "    5   SparseNormalizer XGBoostClassifier             0:00:19             0.7022    0.8312\n",
            "    6   SparseNormalizer RandomForest                  0:00:19             0.7371    0.8312\n",
            "    7   StandardScalerWrapper XGBoostClassifier        0:00:20             0.7702    0.8312\n",
            "    8   SparseNormalizer XGBoostClassifier             0:00:18             0.6895    0.8312\n",
            "    9   MaxAbsScaler RandomForest                      0:00:18             0.8230    0.8312\n",
            "   10   SparseNormalizer LightGBM                      0:00:21             0.6971    0.8312\n",
            "   11   MaxAbsScaler ExtremeRandomTrees                0:00:23             0.8008    0.8312\n",
            "   12   StandardScalerWrapper XGBoostClassifier        0:00:21             0.8205    0.8312\n",
            "   13   StandardScalerWrapper ExtremeRandomTrees       0:00:21             0.7813    0.8312\n",
            "   14   StandardScalerWrapper RandomForest             0:00:19             0.8196    0.8312\n",
            "   15   MaxAbsScaler LightGBM                          0:00:19             0.8276    0.8312\n",
            "   16   MaxAbsScaler LogisticRegression                0:00:19             0.8134    0.8312\n",
            "   17   StandardScalerWrapper ExtremeRandomTrees       0:00:21             0.8238    0.8312\n",
            "   18    VotingEnsemble                                0:00:49             0.8392    0.8392\n",
            "   19    StackEnsemble                                 0:00:49             0.8370    0.8392\n"
          ]
        },
        {
          "output_type": "execute_result",
          "data": {
            "text/html": [
              "<table style=\"width:100%\"><tr><th>Experiment</th><th>Id</th><th>Type</th><th>Status</th><th>Details Page</th><th>Docs Page</th></tr><tr><td>diabetes-experiment</td><td>AutoML_08bd5b35-d2cb-4426-8313-a77c644d5977</td><td>automl</td><td>Completed</td><td><a href=\"https://ml.azure.com/runs/AutoML_08bd5b35-d2cb-4426-8313-a77c644d5977?wsid=/subscriptions/bfd06ac3-2202-444b-8ae5-ede549970bf5/resourcegroups/future_ready/workspaces/Diabetes_Detection&amp;tid=065e654f-7001-4689-8e59-abfa650a852c\" target=\"_blank\" rel=\"noopener\">Link to Azure Machine Learning studio</a></td><td><a href=\"https://docs.microsoft.com/en-us/python/api/overview/azure/ml/intro?view=azure-ml-py\" target=\"_blank\" rel=\"noopener\">Link to Documentation</a></td></tr></table>"
            ],
            "text/plain": [
              "Run(Experiment: diabetes-experiment,\n",
              "Id: AutoML_08bd5b35-d2cb-4426-8313-a77c644d5977,\n",
              "Type: automl,\n",
              "Status: Completed)"
            ]
          },
          "metadata": {},
          "execution_count": 7
        }
      ]
    },
    {
      "cell_type": "code",
      "source": [
        "best_run, model = remote_run.get_output()"
      ],
      "metadata": {
        "id": "5NPYjmq7aGf4"
      },
      "execution_count": 9,
      "outputs": []
    },
    {
      "cell_type": "code",
      "source": [
        "from azureml.widgets import RunDetails\n",
        "RunDetails(remote_run).show()"
      ],
      "metadata": {
        "colab": {
          "base_uri": "https://localhost:8080/",
          "height": 34
        },
        "id": "eN6VS8nwauhY",
        "outputId": "148eee1a-8704-433a-966e-87367d6a00eb"
      },
      "execution_count": null,
      "outputs": [
        {
          "output_type": "display_data",
          "data": {
            "application/aml.mini.widget.v1": "\"AttributeError(\\\"'_AutoMLWidget' object has no attribute 'observe'\\\")\""
          },
          "metadata": {}
        },
        {
          "output_type": "display_data",
          "data": {
            "text/plain": [
              "<azureml.widgets._automl._universal_widget._AutoMLWidget at 0x7fa46e2012d0>"
            ]
          },
          "metadata": {}
        },
        {
          "output_type": "display_data",
          "data": {
            "application/aml.mini.widget.v1": "{\"status\": \"Completed\", \"workbench_run_details_uri\": \"https://ml.azure.com/runs/AutoML_08bd5b35-d2cb-4426-8313-a77c644d5977?wsid=/subscriptions/bfd06ac3-2202-444b-8ae5-ede549970bf5/resourcegroups/future_ready/workspaces/Diabetes_Detection&tid=065e654f-7001-4689-8e59-abfa650a852c\", \"run_id\": \"AutoML_08bd5b35-d2cb-4426-8313-a77c644d5977\", \"run_properties\": {\"run_id\": \"AutoML_08bd5b35-d2cb-4426-8313-a77c644d5977\", \"created_utc\": \"2022-01-09T08:49:03.887388Z\", \"properties\": {\"num_iterations\": \"20\", \"training_type\": \"TrainFull\", \"acquisition_function\": \"EI\", \"primary_metric\": \"AUC_weighted\", \"train_split\": \"0\", \"acquisition_parameter\": \"0\", \"num_cross_validation\": \"2\", \"target\": \"diabetes-Cluster\", \"AMLSettingsJsonString\": \"{\\\"path\\\":null,\\\"name\\\":\\\"diabetes-experiment\\\",\\\"subscription_id\\\":\\\"bfd06ac3-2202-444b-8ae5-ede549970bf5\\\",\\\"resource_group\\\":\\\"future_ready\\\",\\\"workspace_name\\\":\\\"Diabetes_Detection\\\",\\\"region\\\":\\\"eastus\\\",\\\"compute_target\\\":\\\"diabetes-Cluster\\\",\\\"spark_service\\\":null,\\\"azure_service\\\":\\\"remote\\\",\\\"many_models\\\":false,\\\"pipeline_fetch_max_batch_size\\\":1,\\\"enable_batch_run\\\":true,\\\"enable_run_restructure\\\":false,\\\"start_auxiliary_runs_before_parent_complete\\\":false,\\\"enable_code_generation\\\":false,\\\"iterations\\\":20,\\\"primary_metric\\\":\\\"AUC_weighted\\\",\\\"task_type\\\":\\\"classification\\\",\\\"positive_label\\\":null,\\\"data_script\\\":null,\\\"test_size\\\":0.0,\\\"test_include_predictions_only\\\":false,\\\"validation_size\\\":0.0,\\\"n_cross_validations\\\":2,\\\"y_min\\\":null,\\\"y_max\\\":null,\\\"num_classes\\\":null,\\\"featurization\\\":\\\"auto\\\",\\\"_ignore_package_version_incompatibilities\\\":false,\\\"is_timeseries\\\":false,\\\"max_cores_per_iteration\\\":1,\\\"max_concurrent_iterations\\\":1,\\\"iteration_timeout_minutes\\\":10,\\\"mem_in_mb\\\":null,\\\"enforce_time_on_windows\\\":false,\\\"experiment_timeout_minutes\\\":8640,\\\"experiment_exit_score\\\":null,\\\"whitelist_models\\\":null,\\\"blacklist_algos\\\":[\\\"TensorFlowLinearClassifier\\\",\\\"TensorFlowDNN\\\"],\\\"supported_models\\\":[\\\"MultinomialNaiveBayes\\\",\\\"GradientBoosting\\\",\\\"KNN\\\",\\\"DecisionTree\\\",\\\"XGBoostClassifier\\\",\\\"TensorFlowLinearClassifier\\\",\\\"LinearSVM\\\",\\\"LogisticRegression\\\",\\\"SVM\\\",\\\"LightGBM\\\",\\\"SGD\\\",\\\"RandomForest\\\",\\\"ExtremeRandomTrees\\\",\\\"TensorFlowDNN\\\",\\\"AveragedPerceptronClassifier\\\",\\\"BernoulliNaiveBayes\\\"],\\\"private_models\\\":[\\\"TabnetClassifier\\\"],\\\"auto_blacklist\\\":true,\\\"blacklist_samples_reached\\\":false,\\\"exclude_nan_labels\\\":true,\\\"verbosity\\\":20,\\\"_debug_log\\\":\\\"azureml_automl.log\\\",\\\"show_warnings\\\":false,\\\"model_explainability\\\":true,\\\"service_url\\\":null,\\\"sdk_url\\\":null,\\\"sdk_packages\\\":null,\\\"enable_onnx_compatible_models\\\":false,\\\"enable_split_onnx_featurizer_estimator_models\\\":false,\\\"vm_type\\\":\\\"STANDARD_D2_V2\\\",\\\"telemetry_verbosity\\\":20,\\\"send_telemetry\\\":true,\\\"enable_dnn\\\":false,\\\"scenario\\\":\\\"SDK-1.13.0\\\",\\\"environment_label\\\":null,\\\"save_mlflow\\\":false,\\\"enable_categorical_indicators\\\":false,\\\"force_text_dnn\\\":false,\\\"enable_feature_sweeping\\\":true,\\\"enable_early_stopping\\\":true,\\\"early_stopping_n_iters\\\":10,\\\"arguments\\\":null,\\\"dataset_id\\\":null,\\\"hyperdrive_config\\\":null,\\\"validation_dataset_id\\\":null,\\\"run_source\\\":null,\\\"metrics\\\":null,\\\"enable_metric_confidence\\\":false,\\\"enable_ensembling\\\":true,\\\"enable_stack_ensembling\\\":true,\\\"ensemble_iterations\\\":15,\\\"enable_tf\\\":false,\\\"enable_subsampling\\\":false,\\\"subsample_seed\\\":null,\\\"enable_nimbusml\\\":false,\\\"enable_streaming\\\":false,\\\"force_streaming\\\":false,\\\"track_child_runs\\\":true,\\\"allowed_private_models\\\":[],\\\"label_column_name\\\":\\\"class\\\",\\\"weight_column_name\\\":null,\\\"cv_split_column_names\\\":null,\\\"enable_local_managed\\\":false,\\\"_local_managed_run_id\\\":null,\\\"cost_mode\\\":1,\\\"lag_length\\\":0,\\\"metric_operation\\\":\\\"maximize\\\",\\\"preprocess\\\":true}\", \"DataPrepJsonString\": \"{\\\\\\\"training_data\\\\\\\": {\\\\\\\"datasetId\\\\\\\": \\\\\\\"88d2dd4a-4f67-4933-95ed-48c5f0ffc0e2\\\\\\\"}, \\\\\\\"datasets\\\\\\\": 0}\", \"EnableSubsampling\": \"False\", \"runTemplate\": \"AutoML\", \"azureml.runsource\": \"automl\", \"display_task_type\": \"classification\", \"dependencies_versions\": \"{\\\"azureml-train-restclients-hyperdrive\\\": \\\"1.37.0\\\", \\\"azureml-train-core\\\": \\\"1.37.0\\\", \\\"azureml-train-automl\\\": \\\"1.37.0\\\", \\\"azureml-train-automl-runtime\\\": \\\"1.37.0\\\", \\\"azureml-train-automl-client\\\": \\\"1.37.0\\\", \\\"azureml-telemetry\\\": \\\"1.37.0\\\", \\\"azureml-mlflow\\\": \\\"1.37.0\\\", \\\"azureml-interpret\\\": \\\"1.37.0\\\", \\\"azureml-inference-server-http\\\": \\\"0.4.2\\\", \\\"azureml-defaults\\\": \\\"1.37.0\\\", \\\"azureml-dataset-runtime\\\": \\\"1.37.0\\\", \\\"azureml-dataprep\\\": \\\"2.25.2\\\", \\\"azureml-dataprep-rslex\\\": \\\"2.1.1\\\", \\\"azureml-dataprep-native\\\": \\\"38.0.0\\\", \\\"azureml-core\\\": \\\"1.37.0.post1\\\", \\\"azureml-automl-runtime\\\": \\\"1.37.0\\\", \\\"azureml-automl-core\\\": \\\"1.37.0\\\"}\", \"_aml_system_scenario_identification\": \"Remote.Parent\", \"ClientType\": \"SDK\", \"environment_cpu_name\": \"AzureML-AutoML\", \"environment_cpu_label\": \"prod\", \"environment_gpu_name\": \"AzureML-AutoML-GPU\", \"environment_gpu_label\": \"prod\", \"root_attribution\": \"automl\", \"attribution\": \"AutoML\", \"Orchestrator\": \"AutoML\", \"CancelUri\": \"https://eastus.api.azureml.ms/jasmine/v1.0/subscriptions/bfd06ac3-2202-444b-8ae5-ede549970bf5/resourceGroups/future_ready/providers/Microsoft.MachineLearningServices/workspaces/Diabetes_Detection/experimentids/7e591c3d-c67c-429e-8fcc-658c6c610700/cancel/AutoML_08bd5b35-d2cb-4426-8313-a77c644d5977\", \"ClientSdkVersion\": \"1.37.0\", \"snapshotId\": \"00000000-0000-0000-0000-000000000000\", \"SetupRunId\": \"AutoML_08bd5b35-d2cb-4426-8313-a77c644d5977_setup\", \"SetupRunContainerId\": \"dcid.AutoML_08bd5b35-d2cb-4426-8313-a77c644d5977_setup\", \"FeaturizationRunJsonPath\": \"featurizer_container.json\", \"FeaturizationRunId\": \"AutoML_08bd5b35-d2cb-4426-8313-a77c644d5977_featurize\", \"ProblemInfoJsonString\": \"{\\\"dataset_num_categorical\\\": 0, \\\"is_sparse\\\": true, \\\"subsampling\\\": false, \\\"has_extra_col\\\": true, \\\"dataset_classes\\\": 2, \\\"dataset_features\\\": 24, \\\"dataset_samples\\\": 768, \\\"single_frequency_class_detected\\\": false}\", \"ModelExplainRunId\": \"AutoML_08bd5b35-d2cb-4426-8313-a77c644d5977_ModelExplain\"}, \"tags\": {\"model_explain_run\": \"best_run\", \"_aml_system_azureml.automlComponent\": \"AutoML\", \"pipeline_id\": \"\", \"score\": \"\", \"predicted_cost\": \"\", \"fit_time\": \"\", \"training_percent\": \"\", \"iteration\": \"\", \"run_preprocessor\": \"\", \"run_algorithm\": \"\", \"automl_best_child_run_id\": \"AutoML_08bd5b35-d2cb-4426-8313-a77c644d5977_18\", \"model_explain_best_run_child_id\": \"AutoML_08bd5b35-d2cb-4426-8313-a77c644d5977_18\"}, \"end_time_utc\": \"2022-01-09T09:02:33.999261Z\", \"status\": \"Completed\", \"log_files\": {}, \"log_groups\": [], \"run_duration\": \"0:13:30\", \"run_number\": \"27\", \"run_queued_details\": {\"status\": \"Completed\", \"details\": null}}, \"child_runs\": [{\"run_id\": \"AutoML_08bd5b35-d2cb-4426-8313-a77c644d5977_setup\", \"run_number\": 28, \"metric\": null, \"status\": \"Completed\", \"run_type\": \"azureml.scriptrun\", \"training_percent\": null, \"start_time\": \"2022-01-09T08:51:31.162434Z\", \"end_time\": \"2022-01-09T08:53:16.864195Z\", \"created_time\": \"2022-01-09T08:49:20.793839Z\", \"created_time_dt\": \"2022-01-09T08:49:20.793839Z\", \"duration\": \"0:03:56\", \"iteration\": null, \"goal\": null, \"run_name\": \"Completed\", \"run_properties\": null}, {\"run_id\": \"AutoML_08bd5b35-d2cb-4426-8313-a77c644d5977_featurize\", \"run_number\": 29, \"metric\": null, \"status\": \"Completed\", \"run_type\": \"automl.featurization\", \"training_percent\": null, \"start_time\": \"2022-01-09T08:53:18.149648Z\", \"end_time\": \"2022-01-09T08:54:16.252013Z\", \"created_time\": \"2022-01-09T08:53:17.446895Z\", \"created_time_dt\": \"2022-01-09T08:53:17.446895Z\", \"duration\": \"0:00:58\", \"iteration\": null, \"goal\": null, \"run_name\": \"Completed\", \"run_properties\": null}, {\"run_id\": \"AutoML_08bd5b35-d2cb-4426-8313-a77c644d5977_0\", \"run_number\": 31, \"metric\": null, \"status\": \"Completed\", \"run_type\": null, \"training_percent\": \"100\", \"start_time\": \"2022-01-09T08:54:51.499409Z\", \"end_time\": \"2022-01-09T08:55:09.898738Z\", \"created_time\": \"2022-01-09T08:54:18.229355Z\", \"created_time_dt\": \"2022-01-09T08:54:18.229355Z\", \"duration\": \"0:00:51\", \"iteration\": \"0\", \"goal\": \"AUC_weighted_max\", \"run_name\": \"MaxAbsScaler, LightGBM\", \"run_properties\": \"copy=True\", \"primary_metric\": 0.80103238, \"best_metric\": 0.80103238}, {\"run_id\": \"AutoML_08bd5b35-d2cb-4426-8313-a77c644d5977_1\", \"run_number\": 32, \"metric\": null, \"status\": \"Completed\", \"run_type\": null, \"training_percent\": \"100\", \"start_time\": \"2022-01-09T08:55:10.109436Z\", \"end_time\": \"2022-01-09T08:55:29.192265Z\", \"created_time\": \"2022-01-09T08:54:18.89263Z\", \"created_time_dt\": \"2022-01-09T08:54:18.89263Z\", \"duration\": \"0:01:10\", \"iteration\": \"1\", \"goal\": \"AUC_weighted_max\", \"run_name\": \"MaxAbsScaler, XGBoostClassifier\", \"run_properties\": \"copy=True\", \"primary_metric\": 0.8231059, \"best_metric\": 0.8231059}, {\"run_id\": \"AutoML_08bd5b35-d2cb-4426-8313-a77c644d5977_2\", \"run_number\": 33, \"metric\": null, \"status\": \"Completed\", \"run_type\": null, \"training_percent\": \"100\", \"start_time\": \"2022-01-09T08:55:29.456207Z\", \"end_time\": \"2022-01-09T08:55:48.164711Z\", \"created_time\": \"2022-01-09T08:54:20.987435Z\", \"created_time_dt\": \"2022-01-09T08:54:20.987435Z\", \"duration\": \"0:01:27\", \"iteration\": \"2\", \"goal\": \"AUC_weighted_max\", \"run_name\": \"MaxAbsScaler, ExtremeRandomTrees\", \"run_properties\": \"copy=True\", \"primary_metric\": 0.82071405, \"best_metric\": 0.8231059}, {\"run_id\": \"AutoML_08bd5b35-d2cb-4426-8313-a77c644d5977_3\", \"run_number\": 34, \"metric\": null, \"status\": \"Completed\", \"run_type\": null, \"training_percent\": \"100\", \"start_time\": \"2022-01-09T08:55:48.435155Z\", \"end_time\": \"2022-01-09T08:56:08.256622Z\", \"created_time\": \"2022-01-09T08:54:21.778124Z\", \"created_time_dt\": \"2022-01-09T08:54:21.778124Z\", \"duration\": \"0:01:46\", \"iteration\": \"3\", \"goal\": \"AUC_weighted_max\", \"run_name\": \"MaxAbsScaler, RandomForest\", \"run_properties\": \"copy=True\", \"primary_metric\": 0.80698619, \"best_metric\": 0.8231059}, {\"run_id\": \"AutoML_08bd5b35-d2cb-4426-8313-a77c644d5977_4\", \"run_number\": 35, \"metric\": null, \"status\": \"Completed\", \"run_type\": null, \"training_percent\": \"100\", \"start_time\": \"2022-01-09T08:56:08.499389Z\", \"end_time\": \"2022-01-09T08:56:28.097442Z\", \"created_time\": \"2022-01-09T08:54:23.376054Z\", \"created_time_dt\": \"2022-01-09T08:54:23.376054Z\", \"duration\": \"0:02:04\", \"iteration\": \"4\", \"goal\": \"AUC_weighted_max\", \"run_name\": \"StandardScalerWrapper, LightGBM\", \"run_properties\": \"\\n    copy=True,\\n    with_mean=False,\\n    with_std=True\\n\", \"primary_metric\": 0.83122542, \"best_metric\": 0.83122542}, {\"run_id\": \"AutoML_08bd5b35-d2cb-4426-8313-a77c644d5977_5\", \"run_number\": 36, \"metric\": null, \"status\": \"Completed\", \"run_type\": null, \"training_percent\": \"100\", \"start_time\": \"2022-01-09T08:56:28.306634Z\", \"end_time\": \"2022-01-09T08:56:47.0148Z\", \"created_time\": \"2022-01-09T08:54:24.399728Z\", \"created_time_dt\": \"2022-01-09T08:54:24.399728Z\", \"duration\": \"0:02:22\", \"iteration\": \"5\", \"goal\": \"AUC_weighted_max\", \"run_name\": \"SparseNormalizer, XGBoostClassifier\", \"run_properties\": \"copy=True, norm='max'\", \"primary_metric\": 0.70222646, \"best_metric\": 0.83122542}, {\"run_id\": \"AutoML_08bd5b35-d2cb-4426-8313-a77c644d5977_6\", \"run_number\": 37, \"metric\": null, \"status\": \"Completed\", \"run_type\": null, \"training_percent\": \"100\", \"start_time\": \"2022-01-09T08:56:47.273153Z\", \"end_time\": \"2022-01-09T08:57:06.726916Z\", \"created_time\": \"2022-01-09T08:54:25.009588Z\", \"created_time_dt\": \"2022-01-09T08:54:25.009588Z\", \"duration\": \"0:02:41\", \"iteration\": \"6\", \"goal\": \"AUC_weighted_max\", \"run_name\": \"SparseNormalizer, RandomForest\", \"run_properties\": \"copy=True, norm='l2'\", \"primary_metric\": 0.73710198, \"best_metric\": 0.83122542}, {\"run_id\": \"AutoML_08bd5b35-d2cb-4426-8313-a77c644d5977_7\", \"run_number\": 38, \"metric\": null, \"status\": \"Completed\", \"run_type\": null, \"training_percent\": \"100\", \"start_time\": \"2022-01-09T08:57:06.966722Z\", \"end_time\": \"2022-01-09T08:57:26.722366Z\", \"created_time\": \"2022-01-09T08:54:25.587784Z\", \"created_time_dt\": \"2022-01-09T08:54:25.587784Z\", \"duration\": \"0:03:01\", \"iteration\": \"7\", \"goal\": \"AUC_weighted_max\", \"run_name\": \"StandardScalerWrapper, XGBoostClassifier\", \"run_properties\": \"\\n    copy=True,\\n    with_mean=False,\\n    with_std=False\\n\", \"primary_metric\": 0.77020568, \"best_metric\": 0.83122542}, {\"run_id\": \"AutoML_08bd5b35-d2cb-4426-8313-a77c644d5977_8\", \"run_number\": 39, \"metric\": null, \"status\": \"Completed\", \"run_type\": null, \"training_percent\": \"100\", \"start_time\": \"2022-01-09T08:57:26.935026Z\", \"end_time\": \"2022-01-09T08:57:44.95739Z\", \"created_time\": \"2022-01-09T08:54:26.117339Z\", \"created_time_dt\": \"2022-01-09T08:54:26.117339Z\", \"duration\": \"0:03:18\", \"iteration\": \"8\", \"goal\": \"AUC_weighted_max\", \"run_name\": \"SparseNormalizer, XGBoostClassifier\", \"run_properties\": \"copy=True, norm='max'\", \"primary_metric\": 0.68949735, \"best_metric\": 0.83122542}, {\"run_id\": \"AutoML_08bd5b35-d2cb-4426-8313-a77c644d5977_9\", \"run_number\": 40, \"metric\": null, \"status\": \"Completed\", \"run_type\": null, \"training_percent\": \"100\", \"start_time\": \"2022-01-09T08:57:45.19029Z\", \"end_time\": \"2022-01-09T08:58:03.635087Z\", \"created_time\": \"2022-01-09T08:54:27.498806Z\", \"created_time_dt\": \"2022-01-09T08:54:27.498806Z\", \"duration\": \"0:03:36\", \"iteration\": \"9\", \"goal\": \"AUC_weighted_max\", \"run_name\": \"MaxAbsScaler, RandomForest\", \"run_properties\": \"copy=True\", \"primary_metric\": 0.82295284, \"best_metric\": 0.83122542}, {\"run_id\": \"AutoML_08bd5b35-d2cb-4426-8313-a77c644d5977_10\", \"run_number\": 41, \"metric\": null, \"status\": \"Completed\", \"run_type\": null, \"training_percent\": \"100\", \"start_time\": \"2022-01-09T08:58:03.841801Z\", \"end_time\": \"2022-01-09T08:58:24.466247Z\", \"created_time\": \"2022-01-09T08:54:28.954368Z\", \"created_time_dt\": \"2022-01-09T08:54:28.954368Z\", \"duration\": \"0:03:55\", \"iteration\": \"10\", \"goal\": \"AUC_weighted_max\", \"run_name\": \"SparseNormalizer, LightGBM\", \"run_properties\": \"copy=True, norm='l1'\", \"primary_metric\": 0.6971289, \"best_metric\": 0.83122542}, {\"run_id\": \"AutoML_08bd5b35-d2cb-4426-8313-a77c644d5977_11\", \"run_number\": 42, \"metric\": null, \"status\": \"Completed\", \"run_type\": null, \"training_percent\": \"100\", \"start_time\": \"2022-01-09T08:58:24.687987Z\", \"end_time\": \"2022-01-09T08:58:47.328456Z\", \"created_time\": \"2022-01-09T08:54:29.766978Z\", \"created_time_dt\": \"2022-01-09T08:54:29.766978Z\", \"duration\": \"0:04:17\", \"iteration\": \"11\", \"goal\": \"AUC_weighted_max\", \"run_name\": \"MaxAbsScaler, ExtremeRandomTrees\", \"run_properties\": \"copy=True\", \"primary_metric\": 0.8008315, \"best_metric\": 0.83122542}, {\"run_id\": \"AutoML_08bd5b35-d2cb-4426-8313-a77c644d5977_12\", \"run_number\": 43, \"metric\": null, \"status\": \"Completed\", \"run_type\": null, \"training_percent\": \"100\", \"start_time\": \"2022-01-09T08:58:47.570485Z\", \"end_time\": \"2022-01-09T08:59:08.186889Z\", \"created_time\": \"2022-01-09T08:54:30.363885Z\", \"created_time_dt\": \"2022-01-09T08:54:30.363885Z\", \"duration\": \"0:04:37\", \"iteration\": \"12\", \"goal\": \"AUC_weighted_max\", \"run_name\": \"StandardScalerWrapper, XGBoostClassifier\", \"run_properties\": \"\\n    copy=True,\\n    with_mean=False,\\n    with_std=False\\n\", \"primary_metric\": 0.82051994, \"best_metric\": 0.83122542}, {\"run_id\": \"AutoML_08bd5b35-d2cb-4426-8313-a77c644d5977_13\", \"run_number\": 44, \"metric\": null, \"status\": \"Completed\", \"run_type\": null, \"training_percent\": \"100\", \"start_time\": \"2022-01-09T08:59:08.453198Z\", \"end_time\": \"2022-01-09T08:59:29.2907Z\", \"created_time\": \"2022-01-09T08:54:30.913318Z\", \"created_time_dt\": \"2022-01-09T08:54:30.913318Z\", \"duration\": \"0:04:58\", \"iteration\": \"13\", \"goal\": \"AUC_weighted_max\", \"run_name\": \"StandardScalerWrapper, ExtremeRandomTrees\", \"run_properties\": \"\\n    copy=True,\\n    with_mean=False,\\n    with_std=False\\n\", \"primary_metric\": 0.78125224, \"best_metric\": 0.83122542}, {\"run_id\": \"AutoML_08bd5b35-d2cb-4426-8313-a77c644d5977_14\", \"run_number\": 45, \"metric\": null, \"status\": \"Completed\", \"run_type\": null, \"training_percent\": \"100\", \"start_time\": \"2022-01-09T08:59:29.513764Z\", \"end_time\": \"2022-01-09T08:59:48.811506Z\", \"created_time\": \"2022-01-09T08:54:31.437885Z\", \"created_time_dt\": \"2022-01-09T08:54:31.437885Z\", \"duration\": \"0:05:17\", \"iteration\": \"14\", \"goal\": \"AUC_weighted_max\", \"run_name\": \"StandardScalerWrapper, RandomForest\", \"run_properties\": \"\\n    copy=True,\\n    with_mean=False,\\n    with_std=False\\n\", \"primary_metric\": 0.81964605, \"best_metric\": 0.83122542}, {\"run_id\": \"AutoML_08bd5b35-d2cb-4426-8313-a77c644d5977_15\", \"run_number\": 46, \"metric\": null, \"status\": \"Completed\", \"run_type\": null, \"training_percent\": \"100\", \"start_time\": \"2022-01-09T08:59:49.04502Z\", \"end_time\": \"2022-01-09T09:00:07.913715Z\", \"created_time\": \"2022-01-09T08:54:32.015384Z\", \"created_time_dt\": \"2022-01-09T08:54:32.015384Z\", \"duration\": \"0:05:35\", \"iteration\": \"15\", \"goal\": \"AUC_weighted_max\", \"run_name\": \"MaxAbsScaler, LightGBM\", \"run_properties\": \"copy=True\", \"primary_metric\": 0.82764627, \"best_metric\": 0.83122542}, {\"run_id\": \"AutoML_08bd5b35-d2cb-4426-8313-a77c644d5977_16\", \"run_number\": 47, \"metric\": null, \"status\": \"Completed\", \"run_type\": null, \"training_percent\": \"100\", \"start_time\": \"2022-01-09T09:00:09.768936Z\", \"end_time\": \"2022-01-09T09:00:28.831796Z\", \"created_time\": \"2022-01-09T08:54:32.607161Z\", \"created_time_dt\": \"2022-01-09T08:54:32.607161Z\", \"duration\": \"0:05:56\", \"iteration\": \"16\", \"goal\": \"AUC_weighted_max\", \"run_name\": \"MaxAbsScaler, LogisticRegression\", \"run_properties\": \"copy=True\", \"primary_metric\": 0.81340053, \"best_metric\": 0.83122542}, {\"run_id\": \"AutoML_08bd5b35-d2cb-4426-8313-a77c644d5977_17\", \"run_number\": 48, \"metric\": null, \"status\": \"Completed\", \"run_type\": null, \"training_percent\": \"100\", \"start_time\": \"2022-01-09T09:00:29.071193Z\", \"end_time\": \"2022-01-09T09:00:49.820748Z\", \"created_time\": \"2022-01-09T08:54:33.12624Z\", \"created_time_dt\": \"2022-01-09T08:54:33.12624Z\", \"duration\": \"0:06:16\", \"iteration\": \"17\", \"goal\": \"AUC_weighted_max\", \"run_name\": \"StandardScalerWrapper, ExtremeRandomTrees\", \"run_properties\": \"\\n    copy=True,\\n    with_mean=False,\\n    with_std=True\\n\", \"primary_metric\": 0.82382432, \"best_metric\": 0.83122542}, {\"run_id\": \"AutoML_08bd5b35-d2cb-4426-8313-a77c644d5977_worker_0\", \"run_number\": 49, \"metric\": null, \"status\": \"Completed\", \"run_type\": \"azureml.scriptrun\", \"training_percent\": null, \"start_time\": \"2022-01-09T08:56:38.248665Z\", \"end_time\": \"2022-01-09T09:00:54.659119Z\", \"created_time\": \"2022-01-09T08:54:33.562292Z\", \"created_time_dt\": \"2022-01-09T08:54:33.562292Z\", \"duration\": \"0:06:21\", \"iteration\": null, \"goal\": null, \"run_name\": \"Completed\", \"run_properties\": null}, {\"run_id\": \"AutoML_08bd5b35-d2cb-4426-8313-a77c644d5977_18\", \"run_number\": 50, \"metric\": null, \"status\": \"Completed\", \"run_type\": \"azureml.scriptrun\", \"training_percent\": \"100\", \"start_time\": \"2022-01-09T09:00:51.090584Z\", \"end_time\": \"2022-01-09T09:01:40.33981Z\", \"created_time\": \"2022-01-09T09:00:51.090584Z\", \"created_time_dt\": \"2022-01-09T09:00:51.090584Z\", \"duration\": \"0:00:49\", \"iteration\": \"18\", \"goal\": \"AUC_weighted_max\", \"run_name\": \"VotingEnsemble\", \"run_properties\": \"\\n    estimators=[('4', Pipeline(\\n        memory=None,\\n        steps=[('standardscalerwrapper', StandardScalerWrapper(\\n            copy=True,\\n            with_mean=False,\\n            with_std=True\\n        \", \"primary_metric\": 0.83921416, \"best_metric\": 0.83921416}, {\"run_id\": \"AutoML_08bd5b35-d2cb-4426-8313-a77c644d5977_19\", \"run_number\": 51, \"metric\": null, \"status\": \"Completed\", \"run_type\": \"azureml.scriptrun\", \"training_percent\": \"100\", \"start_time\": \"2022-01-09T09:01:43.034816Z\", \"end_time\": \"2022-01-09T09:02:32.154875Z\", \"created_time\": \"2022-01-09T09:01:43.034816Z\", \"created_time_dt\": \"2022-01-09T09:01:43.034816Z\", \"duration\": \"0:00:49\", \"iteration\": \"19\", \"goal\": \"AUC_weighted_max\", \"run_name\": \"StackEnsemble\", \"run_properties\": \"\\n    base_learners=[('4', Pipeline(\\n        memory=None,\\n        steps=[('standardscalerwrapper', StandardScalerWrapper(\\n            copy=True,\\n            with_mean=False,\\n            with_std=True\\n        \", \"primary_metric\": 0.8370438, \"best_metric\": 0.83921416}], \"children_metrics\": {\"categories\": [0], \"series\": {\"precision_score_weighted\": [{\"categories\": [\"0\", \"1\", \"2\", \"3\", \"4\", \"5\", \"6\", \"7\", \"8\", \"9\", \"10\", \"11\", \"12\", \"13\", \"14\", \"15\", \"16\", \"17\", \"18\", \"19\"], \"mode\": \"markers\", \"name\": \"precision_score_weighted\", \"stepped\": false, \"type\": \"scatter\", \"data\": [0.7407210640000537, 0.7573494185152012, 0.7584099269917587, 0.7394452913249838, 0.7458922887551158, 0.6826591871793584, 0.7010319683351272, 0.7175928410851655, 0.6826792399621628, 0.7620169848200555, 0.6682170828442364, 0.7373541242414063, 0.7510088372130646, 0.5889410954611801, 0.7513178263631026, 0.7483799566490505, 0.750475925675181, 0.7490960288149271, 0.7555994643488684, 0.5786383212671541]}, {\"categories\": [\"0\", \"1\", \"2\", \"3\", \"4\", \"5\", \"6\", \"7\", \"8\", \"9\", \"10\", \"11\", \"12\", \"13\", \"14\", \"15\", \"16\", \"17\", \"18\", \"19\"], \"mode\": \"lines\", \"name\": \"precision_score_weighted_max\", \"stepped\": true, \"type\": \"scatter\", \"data\": [0.7407210640000537, 0.7573494185152012, 0.7584099269917587, 0.7584099269917587, 0.7584099269917587, 0.7584099269917587, 0.7584099269917587, 0.7584099269917587, 0.7584099269917587, 0.7620169848200555, 0.7620169848200555, 0.7620169848200555, 0.7620169848200555, 0.7620169848200555, 0.7620169848200555, 0.7620169848200555, 0.7620169848200555, 0.7620169848200555, 0.7620169848200555, 0.7620169848200555]}], \"norm_macro_recall\": [{\"categories\": [\"0\", \"1\", \"2\", \"3\", \"4\", \"5\", \"6\", \"7\", \"8\", \"9\", \"10\", \"11\", \"12\", \"13\", \"14\", \"15\", \"16\", \"17\", \"18\", \"19\"], \"mode\": \"markers\", \"name\": \"norm_macro_recall\", \"stepped\": false, \"type\": \"scatter\", \"data\": [0.40914728338424855, 0.45177569141330565, 0.39924445341620685, 0.38606008743429465, 0.3872954342537167, 0.2775034150060205, 0.3432560253570882, 0.3489148098920901, 0.27344499224617136, 0.4799019628695357, 0.23375006697669953, 0.42785460064291614, 0.4349960355379765, 0.003968253968253954, 0.41303453153198555, 0.3816875992753669, 0.45803274383955084, 0.4510835272381293, 0.44964684212220174, 0.17543373938722773]}, {\"categories\": [\"0\", \"1\", \"2\", \"3\", \"4\", \"5\", \"6\", \"7\", \"8\", \"9\", \"10\", \"11\", \"12\", \"13\", \"14\", \"15\", \"16\", \"17\", \"18\", \"19\"], \"mode\": \"lines\", \"name\": \"norm_macro_recall_max\", \"stepped\": true, \"type\": \"scatter\", \"data\": [0.40914728338424855, 0.45177569141330565, 0.45177569141330565, 0.45177569141330565, 0.45177569141330565, 0.45177569141330565, 0.45177569141330565, 0.45177569141330565, 0.45177569141330565, 0.4799019628695357, 0.4799019628695357, 0.4799019628695357, 0.4799019628695357, 0.4799019628695357, 0.4799019628695357, 0.4799019628695357, 0.4799019628695357, 0.4799019628695357, 0.4799019628695357, 0.4799019628695357]}], \"AUC_micro\": [{\"categories\": [\"0\", \"1\", \"2\", \"3\", \"4\", \"5\", \"6\", \"7\", \"8\", \"9\", \"10\", \"11\", \"12\", \"13\", \"14\", \"15\", \"16\", \"17\", \"18\", \"19\"], \"mode\": \"markers\", \"name\": \"AUC_micro\", \"stepped\": false, \"type\": \"scatter\", \"data\": [0.8229777018229166, 0.8437160915798612, 0.8355746799045138, 0.8305324978298612, 0.8490125868055556, 0.756256103515625, 0.7652587890625, 0.801425509982639, 0.7434929741753472, 0.8192952473958333, 0.7514750162760417, 0.8088277180989583, 0.8416680230034721, 0.7785780164930556, 0.8412373860677083, 0.8425123426649306, 0.8113301595052084, 0.8313462999131944, 0.8547905815972223, 0.8193393283420138]}, {\"categories\": [\"0\", \"1\", \"2\", \"3\", \"4\", \"5\", \"6\", \"7\", \"8\", \"9\", \"10\", \"11\", \"12\", \"13\", \"14\", \"15\", \"16\", \"17\", \"18\", \"19\"], \"mode\": \"lines\", \"name\": \"AUC_micro_max\", \"stepped\": true, \"type\": \"scatter\", \"data\": [0.8229777018229166, 0.8437160915798612, 0.8437160915798612, 0.8437160915798612, 0.8490125868055556, 0.8490125868055556, 0.8490125868055556, 0.8490125868055556, 0.8490125868055556, 0.8490125868055556, 0.8490125868055556, 0.8490125868055556, 0.8490125868055556, 0.8490125868055556, 0.8490125868055556, 0.8490125868055556, 0.8490125868055556, 0.8490125868055556, 0.8547905815972223, 0.8547905815972223]}], \"accuracy\": [{\"categories\": [\"0\", \"1\", \"2\", \"3\", \"4\", \"5\", \"6\", \"7\", \"8\", \"9\", \"10\", \"11\", \"12\", \"13\", \"14\", \"15\", \"16\", \"17\", \"18\", \"19\"], \"mode\": \"markers\", \"name\": \"accuracy\", \"stepped\": false, \"type\": \"scatter\", \"data\": [0.7447916666666667, 0.7591145833333333, 0.76171875, 0.74609375, 0.7526041666666667, 0.6940104166666666, 0.6979166666666666, 0.7265625, 0.6953125, 0.7369791666666667, 0.68359375, 0.72265625, 0.7552083333333333, 0.65234375, 0.7578125, 0.75390625, 0.73828125, 0.7395833333333333, 0.7578125, 0.6966145833333334]}, {\"categories\": [\"0\", \"1\", \"2\", \"3\", \"4\", \"5\", \"6\", \"7\", \"8\", \"9\", \"10\", \"11\", \"12\", \"13\", \"14\", \"15\", \"16\", \"17\", \"18\", \"19\"], \"mode\": \"lines\", \"name\": \"accuracy_max\", \"stepped\": true, \"type\": \"scatter\", \"data\": [0.7447916666666667, 0.7591145833333333, 0.76171875, 0.76171875, 0.76171875, 0.76171875, 0.76171875, 0.76171875, 0.76171875, 0.76171875, 0.76171875, 0.76171875, 0.76171875, 0.76171875, 0.76171875, 0.76171875, 0.76171875, 0.76171875, 0.76171875, 0.76171875]}], \"AUC_macro\": [{\"categories\": [\"0\", \"1\", \"2\", \"3\", \"4\", \"5\", \"6\", \"7\", \"8\", \"9\", \"10\", \"11\", \"12\", \"13\", \"14\", \"15\", \"16\", \"17\", \"18\", \"19\"], \"mode\": \"markers\", \"name\": \"AUC_macro\", \"stepped\": false, \"type\": \"scatter\", \"data\": [0.8010323778792945, 0.8231059044882258, 0.8207140476703947, 0.8069861937909014, 0.8312254220935696, 0.7022264583865692, 0.7371019813401375, 0.7702056760806724, 0.6894973504511812, 0.8229528400820424, 0.697128895983227, 0.8008314961200349, 0.8205199369851128, 0.7812522437462883, 0.8196460495019291, 0.8276462703442127, 0.8134005268790725, 0.8238243231357307, 0.8392141632620447, 0.8370438048883989]}, {\"categories\": [\"0\", \"1\", \"2\", \"3\", \"4\", \"5\", \"6\", \"7\", \"8\", \"9\", \"10\", \"11\", \"12\", \"13\", \"14\", \"15\", \"16\", \"17\", \"18\", \"19\"], \"mode\": \"lines\", \"name\": \"AUC_macro_max\", \"stepped\": true, \"type\": \"scatter\", \"data\": [0.8010323778792945, 0.8231059044882258, 0.8231059044882258, 0.8231059044882258, 0.8312254220935696, 0.8312254220935696, 0.8312254220935696, 0.8312254220935696, 0.8312254220935696, 0.8312254220935696, 0.8312254220935696, 0.8312254220935696, 0.8312254220935696, 0.8312254220935696, 0.8312254220935696, 0.8312254220935696, 0.8312254220935696, 0.8312254220935696, 0.8392141632620447, 0.8392141632620447]}], \"precision_score_macro\": [{\"categories\": [\"0\", \"1\", \"2\", \"3\", \"4\", \"5\", \"6\", \"7\", \"8\", \"9\", \"10\", \"11\", \"12\", \"13\", \"14\", \"15\", \"16\", \"17\", \"18\", \"19\"], \"mode\": \"markers\", \"name\": \"precision_score_macro\", \"stepped\": false, \"type\": \"scatter\", \"data\": [0.7197811397161443, 0.7369874563354852, 0.7531459381005497, 0.7249324479363913, 0.7355126513294076, 0.658713355731126, 0.6694507541167634, 0.698724277671646, 0.6595784362903765, 0.723524359171609, 0.6439147451088896, 0.7018178197994983, 0.7304771285732752, 0.5759593940382942, 0.7383406543955491, 0.7408332232810411, 0.717206197431574, 0.7172590503121138, 0.7341084747601769, 0.5358650923780168]}, {\"categories\": [\"0\", \"1\", \"2\", \"3\", \"4\", \"5\", \"6\", \"7\", \"8\", \"9\", \"10\", \"11\", \"12\", \"13\", \"14\", \"15\", \"16\", \"17\", \"18\", \"19\"], \"mode\": \"lines\", \"name\": \"precision_score_macro_max\", \"stepped\": true, \"type\": \"scatter\", \"data\": [0.7197811397161443, 0.7369874563354852, 0.7531459381005497, 0.7531459381005497, 0.7531459381005497, 0.7531459381005497, 0.7531459381005497, 0.7531459381005497, 0.7531459381005497, 0.7531459381005497, 0.7531459381005497, 0.7531459381005497, 0.7531459381005497, 0.7531459381005497, 0.7531459381005497, 0.7531459381005497, 0.7531459381005497, 0.7531459381005497, 0.7531459381005497, 0.7531459381005497]}], \"log_loss\": [{\"categories\": [\"0\", \"1\", \"2\", \"3\", \"4\", \"5\", \"6\", \"7\", \"8\", \"9\", \"10\", \"11\", \"12\", \"13\", \"14\", \"15\", \"16\", \"17\", \"18\", \"19\"], \"mode\": \"markers\", \"name\": \"log_loss\", \"stepped\": false, \"type\": \"scatter\", \"data\": [0.6445142410241094, 0.5059838349955742, 0.5053299585946718, 0.5459392304597249, 0.48616909934467856, 0.5992231537080241, 0.5800103891732699, 0.5615109483969816, 0.6066074710935838, 0.5672307806819905, 0.5942418145205393, 0.5552621033345806, 0.4941566935282502, 0.6068527865927748, 0.49052822730301826, 0.5177512160469373, 0.5741967948697195, 0.5065720971170277, 0.4909616997617885, 0.5822066020302431]}, {\"categories\": [\"0\", \"1\", \"2\", \"3\", \"4\", \"5\", \"6\", \"7\", \"8\", \"9\", \"10\", \"11\", \"12\", \"13\", \"14\", \"15\", \"16\", \"17\", \"18\", \"19\"], \"mode\": \"lines\", \"name\": \"log_loss_min\", \"stepped\": true, \"type\": \"scatter\", \"data\": [0.6445142410241094, 0.5059838349955742, 0.5053299585946718, 0.5053299585946718, 0.48616909934467856, 0.48616909934467856, 0.48616909934467856, 0.48616909934467856, 0.48616909934467856, 0.48616909934467856, 0.48616909934467856, 0.48616909934467856, 0.48616909934467856, 0.48616909934467856, 0.48616909934467856, 0.48616909934467856, 0.48616909934467856, 0.48616909934467856, 0.48616909934467856, 0.48616909934467856]}], \"balanced_accuracy\": [{\"categories\": [\"0\", \"1\", \"2\", \"3\", \"4\", \"5\", \"6\", \"7\", \"8\", \"9\", \"10\", \"11\", \"12\", \"13\", \"14\", \"15\", \"16\", \"17\", \"18\", \"19\"], \"mode\": \"markers\", \"name\": \"balanced_accuracy\", \"stepped\": false, \"type\": \"scatter\", \"data\": [0.7045736416921242, 0.7258878457066529, 0.6996222267081034, 0.6930300437171473, 0.6936477171268584, 0.6387517075030102, 0.6716280126785441, 0.674457404946045, 0.6367224961230857, 0.7399509814347678, 0.6168750334883497, 0.7139273003214581, 0.7174980177689882, 0.501984126984127, 0.7065172657659928, 0.6908437996376835, 0.7290163719197754, 0.7255417636190646, 0.7248234210611009, 0.5877168696936139]}, {\"categories\": [\"0\", \"1\", \"2\", \"3\", \"4\", \"5\", \"6\", \"7\", \"8\", \"9\", \"10\", \"11\", \"12\", \"13\", \"14\", \"15\", \"16\", \"17\", \"18\", \"19\"], \"mode\": \"lines\", \"name\": \"balanced_accuracy_max\", \"stepped\": true, \"type\": \"scatter\", \"data\": [0.7045736416921242, 0.7258878457066529, 0.7258878457066529, 0.7258878457066529, 0.7258878457066529, 0.7258878457066529, 0.7258878457066529, 0.7258878457066529, 0.7258878457066529, 0.7399509814347678, 0.7399509814347678, 0.7399509814347678, 0.7399509814347678, 0.7399509814347678, 0.7399509814347678, 0.7399509814347678, 0.7399509814347678, 0.7399509814347678, 0.7399509814347678, 0.7399509814347678]}], \"recall_score_weighted\": [{\"categories\": [\"0\", \"1\", \"2\", \"3\", \"4\", \"5\", \"6\", \"7\", \"8\", \"9\", \"10\", \"11\", \"12\", \"13\", \"14\", \"15\", \"16\", \"17\", \"18\", \"19\"], \"mode\": \"markers\", \"name\": \"recall_score_weighted\", \"stepped\": false, \"type\": \"scatter\", \"data\": [0.7447916666666667, 0.7591145833333333, 0.76171875, 0.74609375, 0.7526041666666667, 0.6940104166666666, 0.6979166666666666, 0.7265625, 0.6953125, 0.7369791666666667, 0.68359375, 0.72265625, 0.7552083333333333, 0.65234375, 0.7578125, 0.75390625, 0.73828125, 0.7395833333333333, 0.7578125, 0.6966145833333334]}, {\"categories\": [\"0\", \"1\", \"2\", \"3\", \"4\", \"5\", \"6\", \"7\", \"8\", \"9\", \"10\", \"11\", \"12\", \"13\", \"14\", \"15\", \"16\", \"17\", \"18\", \"19\"], \"mode\": \"lines\", \"name\": \"recall_score_weighted_max\", \"stepped\": true, \"type\": \"scatter\", \"data\": [0.7447916666666667, 0.7591145833333333, 0.76171875, 0.76171875, 0.76171875, 0.76171875, 0.76171875, 0.76171875, 0.76171875, 0.76171875, 0.76171875, 0.76171875, 0.76171875, 0.76171875, 0.76171875, 0.76171875, 0.76171875, 0.76171875, 0.76171875, 0.76171875]}], \"recall_score_micro\": [{\"categories\": [\"0\", \"1\", \"2\", \"3\", \"4\", \"5\", \"6\", \"7\", \"8\", \"9\", \"10\", \"11\", \"12\", \"13\", \"14\", \"15\", \"16\", \"17\", \"18\", \"19\"], \"mode\": \"markers\", \"name\": \"recall_score_micro\", \"stepped\": false, \"type\": \"scatter\", \"data\": [0.7447916666666667, 0.7591145833333333, 0.76171875, 0.74609375, 0.7526041666666667, 0.6940104166666666, 0.6979166666666666, 0.7265625, 0.6953125, 0.7369791666666667, 0.68359375, 0.72265625, 0.7552083333333333, 0.65234375, 0.7578125, 0.75390625, 0.73828125, 0.7395833333333333, 0.7578125, 0.6966145833333334]}, {\"categories\": [\"0\", \"1\", \"2\", \"3\", \"4\", \"5\", \"6\", \"7\", \"8\", \"9\", \"10\", \"11\", \"12\", \"13\", \"14\", \"15\", \"16\", \"17\", \"18\", \"19\"], \"mode\": \"lines\", \"name\": \"recall_score_micro_max\", \"stepped\": true, \"type\": \"scatter\", \"data\": [0.7447916666666667, 0.7591145833333333, 0.76171875, 0.76171875, 0.76171875, 0.76171875, 0.76171875, 0.76171875, 0.76171875, 0.76171875, 0.76171875, 0.76171875, 0.76171875, 0.76171875, 0.76171875, 0.76171875, 0.76171875, 0.76171875, 0.76171875, 0.76171875]}], \"precision_score_micro\": [{\"categories\": [\"0\", \"1\", \"2\", \"3\", \"4\", \"5\", \"6\", \"7\", \"8\", \"9\", \"10\", \"11\", \"12\", \"13\", \"14\", \"15\", \"16\", \"17\", \"18\", \"19\"], \"mode\": \"markers\", \"name\": \"precision_score_micro\", \"stepped\": false, \"type\": \"scatter\", \"data\": [0.7447916666666667, 0.7591145833333333, 0.76171875, 0.74609375, 0.7526041666666667, 0.6940104166666666, 0.6979166666666666, 0.7265625, 0.6953125, 0.7369791666666667, 0.68359375, 0.72265625, 0.7552083333333333, 0.65234375, 0.7578125, 0.75390625, 0.73828125, 0.7395833333333333, 0.7578125, 0.6966145833333334]}, {\"categories\": [\"0\", \"1\", \"2\", \"3\", \"4\", \"5\", \"6\", \"7\", \"8\", \"9\", \"10\", \"11\", \"12\", \"13\", \"14\", \"15\", \"16\", \"17\", \"18\", \"19\"], \"mode\": \"lines\", \"name\": \"precision_score_micro_max\", \"stepped\": true, \"type\": \"scatter\", \"data\": [0.7447916666666667, 0.7591145833333333, 0.76171875, 0.76171875, 0.76171875, 0.76171875, 0.76171875, 0.76171875, 0.76171875, 0.76171875, 0.76171875, 0.76171875, 0.76171875, 0.76171875, 0.76171875, 0.76171875, 0.76171875, 0.76171875, 0.76171875, 0.76171875]}], \"f1_score_weighted\": [{\"categories\": [\"0\", \"1\", \"2\", \"3\", \"4\", \"5\", \"6\", \"7\", \"8\", \"9\", \"10\", \"11\", \"12\", \"13\", \"14\", \"15\", \"16\", \"17\", \"18\", \"19\"], \"mode\": \"markers\", \"name\": \"f1_score_weighted\", \"stepped\": false, \"type\": \"scatter\", \"data\": [0.7399546372222878, 0.756518432189883, 0.7478160492927466, 0.736412439921821, 0.7406779941765262, 0.6844315072136193, 0.6990898064733511, 0.7178835401348038, 0.6834208846009485, 0.741590945503048, 0.667440839555291, 0.7266484945215685, 0.7513419483228072, 0.5166375921847771, 0.7492142488264089, 0.7399355726965129, 0.7417419214531182, 0.7419360294754981, 0.7553235842017003, 0.6143034474233363]}, {\"categories\": [\"0\", \"1\", \"2\", \"3\", \"4\", \"5\", \"6\", \"7\", \"8\", \"9\", \"10\", \"11\", \"12\", \"13\", \"14\", \"15\", \"16\", \"17\", \"18\", \"19\"], \"mode\": \"lines\", \"name\": \"f1_score_weighted_max\", \"stepped\": true, \"type\": \"scatter\", \"data\": [0.7399546372222878, 0.756518432189883, 0.756518432189883, 0.756518432189883, 0.756518432189883, 0.756518432189883, 0.756518432189883, 0.756518432189883, 0.756518432189883, 0.756518432189883, 0.756518432189883, 0.756518432189883, 0.756518432189883, 0.756518432189883, 0.756518432189883, 0.756518432189883, 0.756518432189883, 0.756518432189883, 0.756518432189883, 0.756518432189883]}], \"AUC_weighted\": [{\"categories\": [\"0\", \"1\", \"2\", \"3\", \"4\", \"5\", \"6\", \"7\", \"8\", \"9\", \"10\", \"11\", \"12\", \"13\", \"14\", \"15\", \"16\", \"17\", \"18\", \"19\"], \"mode\": \"markers\", \"name\": \"AUC_weighted\", \"stepped\": false, \"type\": \"scatter\", \"data\": [0.8010323778792945, 0.8231059044882258, 0.8207140476703947, 0.8069861937909015, 0.8312254220935698, 0.7022264583865692, 0.7371019813401376, 0.7702056760806724, 0.6894973504511812, 0.8229528400820425, 0.697128895983227, 0.8008314961200349, 0.8205199369851127, 0.7812522437462883, 0.8196460495019291, 0.8276462703442128, 0.8134005268790725, 0.8238243231357307, 0.8392141632620447, 0.8370438048883988]}, {\"categories\": [\"0\", \"1\", \"2\", \"3\", \"4\", \"5\", \"6\", \"7\", \"8\", \"9\", \"10\", \"11\", \"12\", \"13\", \"14\", \"15\", \"16\", \"17\", \"18\", \"19\"], \"mode\": \"lines\", \"name\": \"AUC_weighted_max\", \"stepped\": true, \"type\": \"scatter\", \"data\": [0.8010323778792945, 0.8231059044882258, 0.8231059044882258, 0.8231059044882258, 0.8312254220935698, 0.8312254220935698, 0.8312254220935698, 0.8312254220935698, 0.8312254220935698, 0.8312254220935698, 0.8312254220935698, 0.8312254220935698, 0.8312254220935698, 0.8312254220935698, 0.8312254220935698, 0.8312254220935698, 0.8312254220935698, 0.8312254220935698, 0.8392141632620447, 0.8392141632620447]}], \"weighted_accuracy\": [{\"categories\": [\"0\", \"1\", \"2\", \"3\", \"4\", \"5\", \"6\", \"7\", \"8\", \"9\", \"10\", \"11\", \"12\", \"13\", \"14\", \"15\", \"16\", \"17\", \"18\", \"19\"], \"mode\": \"markers\", \"name\": \"weighted_accuracy\", \"stepped\": false, \"type\": \"scatter\", \"data\": [0.7771469642423707, 0.7858562090662199, 0.8130076772354379, 0.790006854991453, 0.80094854622264, 0.7393487935614406, 0.7192489106635386, 0.769408678039045, 0.743730252795282, 0.733855115847063, 0.738674306480315, 0.7293441003069623, 0.7856607097981634, 0.7764148098876947, 0.7996694383936023, 0.8055501653880396, 0.7454984878195032, 0.7505130482976266, 0.7843734076325954, 0.7879868622894415]}, {\"categories\": [\"0\", \"1\", \"2\", \"3\", \"4\", \"5\", \"6\", \"7\", \"8\", \"9\", \"10\", \"11\", \"12\", \"13\", \"14\", \"15\", \"16\", \"17\", \"18\", \"19\"], \"mode\": \"lines\", \"name\": \"weighted_accuracy_max\", \"stepped\": true, \"type\": \"scatter\", \"data\": [0.7771469642423707, 0.7858562090662199, 0.8130076772354379, 0.8130076772354379, 0.8130076772354379, 0.8130076772354379, 0.8130076772354379, 0.8130076772354379, 0.8130076772354379, 0.8130076772354379, 0.8130076772354379, 0.8130076772354379, 0.8130076772354379, 0.8130076772354379, 0.8130076772354379, 0.8130076772354379, 0.8130076772354379, 0.8130076772354379, 0.8130076772354379, 0.8130076772354379]}], \"f1_score_macro\": [{\"categories\": [\"0\", \"1\", \"2\", \"3\", \"4\", \"5\", \"6\", \"7\", \"8\", \"9\", \"10\", \"11\", \"12\", \"13\", \"14\", \"15\", \"16\", \"17\", \"18\", \"19\"], \"mode\": \"markers\", \"name\": \"f1_score_macro\", \"stepped\": false, \"type\": \"scatter\", \"data\": [0.7086284847177664, 0.7292946315985812, 0.7113654489821605, 0.7014066029270707, 0.703954926000126, 0.6439871190958641, 0.6701184318936646, 0.6815257352941176, 0.6415484656479101, 0.7232312017175635, 0.620339206909457, 0.7041972982873205, 0.7217586711651696, 0.39847579262029376, 0.7157129205254961, 0.701751516898772, 0.7202085602135937, 0.7187973179279845, 0.7277446841570945, 0.5379661195354033]}, {\"categories\": [\"0\", \"1\", \"2\", \"3\", \"4\", \"5\", \"6\", \"7\", \"8\", \"9\", \"10\", \"11\", \"12\", \"13\", \"14\", \"15\", \"16\", \"17\", \"18\", \"19\"], \"mode\": \"lines\", \"name\": \"f1_score_macro_max\", \"stepped\": true, \"type\": \"scatter\", \"data\": [0.7086284847177664, 0.7292946315985812, 0.7292946315985812, 0.7292946315985812, 0.7292946315985812, 0.7292946315985812, 0.7292946315985812, 0.7292946315985812, 0.7292946315985812, 0.7292946315985812, 0.7292946315985812, 0.7292946315985812, 0.7292946315985812, 0.7292946315985812, 0.7292946315985812, 0.7292946315985812, 0.7292946315985812, 0.7292946315985812, 0.7292946315985812, 0.7292946315985812]}], \"average_precision_score_macro\": [{\"categories\": [\"0\", \"1\", \"2\", \"3\", \"4\", \"5\", \"6\", \"7\", \"8\", \"9\", \"10\", \"11\", \"12\", \"13\", \"14\", \"15\", \"16\", \"17\", \"18\", \"19\"], \"mode\": \"markers\", \"name\": \"average_precision_score_macro\", \"stepped\": false, \"type\": \"scatter\", \"data\": [0.767911595694649, 0.7977827565497372, 0.778665172156134, 0.7732882320243514, 0.8006147897779725, 0.6788863287955501, 0.7088425621969401, 0.7445421753248022, 0.6585730057858266, 0.7865846359161743, 0.6719461518341876, 0.7789734020323493, 0.7864363504137152, 0.7647333214312383, 0.7885420054186392, 0.7973641345118792, 0.7798215105069681, 0.7969978674917781, 0.807326557431503, 0.806110588840485]}, {\"categories\": [\"0\", \"1\", \"2\", \"3\", \"4\", \"5\", \"6\", \"7\", \"8\", \"9\", \"10\", \"11\", \"12\", \"13\", \"14\", \"15\", \"16\", \"17\", \"18\", \"19\"], \"mode\": \"lines\", \"name\": \"average_precision_score_macro_max\", \"stepped\": true, \"type\": \"scatter\", \"data\": [0.767911595694649, 0.7977827565497372, 0.7977827565497372, 0.7977827565497372, 0.8006147897779725, 0.8006147897779725, 0.8006147897779725, 0.8006147897779725, 0.8006147897779725, 0.8006147897779725, 0.8006147897779725, 0.8006147897779725, 0.8006147897779725, 0.8006147897779725, 0.8006147897779725, 0.8006147897779725, 0.8006147897779725, 0.8006147897779725, 0.807326557431503, 0.807326557431503]}], \"recall_score_macro\": [{\"categories\": [\"0\", \"1\", \"2\", \"3\", \"4\", \"5\", \"6\", \"7\", \"8\", \"9\", \"10\", \"11\", \"12\", \"13\", \"14\", \"15\", \"16\", \"17\", \"18\", \"19\"], \"mode\": \"markers\", \"name\": \"recall_score_macro\", \"stepped\": false, \"type\": \"scatter\", \"data\": [0.7045736416921242, 0.7258878457066529, 0.6996222267081034, 0.6930300437171473, 0.6936477171268584, 0.6387517075030102, 0.6716280126785441, 0.674457404946045, 0.6367224961230857, 0.7399509814347678, 0.6168750334883497, 0.7139273003214581, 0.7174980177689882, 0.501984126984127, 0.7065172657659928, 0.6908437996376835, 0.7290163719197754, 0.7255417636190646, 0.7248234210611009, 0.5877168696936139]}, {\"categories\": [\"0\", \"1\", \"2\", \"3\", \"4\", \"5\", \"6\", \"7\", \"8\", \"9\", \"10\", \"11\", \"12\", \"13\", \"14\", \"15\", \"16\", \"17\", \"18\", \"19\"], \"mode\": \"lines\", \"name\": \"recall_score_macro_max\", \"stepped\": true, \"type\": \"scatter\", \"data\": [0.7045736416921242, 0.7258878457066529, 0.7258878457066529, 0.7258878457066529, 0.7258878457066529, 0.7258878457066529, 0.7258878457066529, 0.7258878457066529, 0.7258878457066529, 0.7399509814347678, 0.7399509814347678, 0.7399509814347678, 0.7399509814347678, 0.7399509814347678, 0.7399509814347678, 0.7399509814347678, 0.7399509814347678, 0.7399509814347678, 0.7399509814347678, 0.7399509814347678]}], \"f1_score_micro\": [{\"categories\": [\"0\", \"1\", \"2\", \"3\", \"4\", \"5\", \"6\", \"7\", \"8\", \"9\", \"10\", \"11\", \"12\", \"13\", \"14\", \"15\", \"16\", \"17\", \"18\", \"19\"], \"mode\": \"markers\", \"name\": \"f1_score_micro\", \"stepped\": false, \"type\": \"scatter\", \"data\": [0.7447916666666666, 0.7591145833333333, 0.76171875, 0.74609375, 0.7526041666666666, 0.6940104166666666, 0.6979166666666666, 0.7265625, 0.6953125, 0.7369791666666667, 0.68359375, 0.72265625, 0.7552083333333333, 0.65234375, 0.7578125, 0.75390625, 0.7382812499999999, 0.7395833333333333, 0.7578125, 0.6966145833333334]}, {\"categories\": [\"0\", \"1\", \"2\", \"3\", \"4\", \"5\", \"6\", \"7\", \"8\", \"9\", \"10\", \"11\", \"12\", \"13\", \"14\", \"15\", \"16\", \"17\", \"18\", \"19\"], \"mode\": \"lines\", \"name\": \"f1_score_micro_max\", \"stepped\": true, \"type\": \"scatter\", \"data\": [0.7447916666666666, 0.7591145833333333, 0.76171875, 0.76171875, 0.76171875, 0.76171875, 0.76171875, 0.76171875, 0.76171875, 0.76171875, 0.76171875, 0.76171875, 0.76171875, 0.76171875, 0.76171875, 0.76171875, 0.76171875, 0.76171875, 0.76171875, 0.76171875]}], \"matthews_correlation\": [{\"categories\": [\"0\", \"1\", \"2\", \"3\", \"4\", \"5\", \"6\", \"7\", \"8\", \"9\", \"10\", \"11\", \"12\", \"13\", \"14\", \"15\", \"16\", \"17\", \"18\", \"19\"], \"mode\": \"markers\", \"name\": \"matthews_correlation\", \"stepped\": false, \"type\": \"scatter\", \"data\": [0.42364223192514827, 0.4624695486537333, 0.4495895242204158, 0.41669339761429885, 0.4269848470610986, 0.29673840634255333, 0.3410577127214819, 0.3723749694062948, 0.29540991460042837, 0.46318410968732115, 0.25936532757995046, 0.41556725110983617, 0.44754639489751136, 0.0365590749059092, 0.44345899676250045, 0.4284742157543063, 0.44606395921521846, 0.44269082677753097, 0.4586219637859969, 0.21218120081070327]}, {\"categories\": [\"0\", \"1\", \"2\", \"3\", \"4\", \"5\", \"6\", \"7\", \"8\", \"9\", \"10\", \"11\", \"12\", \"13\", \"14\", \"15\", \"16\", \"17\", \"18\", \"19\"], \"mode\": \"lines\", \"name\": \"matthews_correlation_max\", \"stepped\": true, \"type\": \"scatter\", \"data\": [0.42364223192514827, 0.4624695486537333, 0.4624695486537333, 0.4624695486537333, 0.4624695486537333, 0.4624695486537333, 0.4624695486537333, 0.4624695486537333, 0.4624695486537333, 0.46318410968732115, 0.46318410968732115, 0.46318410968732115, 0.46318410968732115, 0.46318410968732115, 0.46318410968732115, 0.46318410968732115, 0.46318410968732115, 0.46318410968732115, 0.46318410968732115, 0.46318410968732115]}], \"average_precision_score_weighted\": [{\"categories\": [\"0\", \"1\", \"2\", \"3\", \"4\", \"5\", \"6\", \"7\", \"8\", \"9\", \"10\", \"11\", \"12\", \"13\", \"14\", \"15\", \"16\", \"17\", \"18\", \"19\"], \"mode\": \"markers\", \"name\": \"average_precision_score_weighted\", \"stepped\": false, \"type\": \"scatter\", \"data\": [0.8044192147771967, 0.8288489331997828, 0.81592347519142, 0.8063125308017176, 0.8330082342937419, 0.7117650591171731, 0.7461089862379598, 0.7817442115339293, 0.6945127676649682, 0.8203232173815125, 0.7091919211012316, 0.8115557725454354, 0.8194749560833297, 0.795789476083072, 0.8206127291400028, 0.8291176105011252, 0.8127044654406204, 0.8283886806785188, 0.8386383415275223, 0.8375851052661832]}, {\"categories\": [\"0\", \"1\", \"2\", \"3\", \"4\", \"5\", \"6\", \"7\", \"8\", \"9\", \"10\", \"11\", \"12\", \"13\", \"14\", \"15\", \"16\", \"17\", \"18\", \"19\"], \"mode\": \"lines\", \"name\": \"average_precision_score_weighted_max\", \"stepped\": true, \"type\": \"scatter\", \"data\": [0.8044192147771967, 0.8288489331997828, 0.8288489331997828, 0.8288489331997828, 0.8330082342937419, 0.8330082342937419, 0.8330082342937419, 0.8330082342937419, 0.8330082342937419, 0.8330082342937419, 0.8330082342937419, 0.8330082342937419, 0.8330082342937419, 0.8330082342937419, 0.8330082342937419, 0.8330082342937419, 0.8330082342937419, 0.8330082342937419, 0.8386383415275223, 0.8386383415275223]}], \"average_precision_score_micro\": [{\"categories\": [\"0\", \"1\", \"2\", \"3\", \"4\", \"5\", \"6\", \"7\", \"8\", \"9\", \"10\", \"11\", \"12\", \"13\", \"14\", \"15\", \"16\", \"17\", \"18\", \"19\"], \"mode\": \"markers\", \"name\": \"average_precision_score_micro\", \"stepped\": false, \"type\": \"scatter\", \"data\": [0.8243351275052142, 0.8442862695355291, 0.838618033801787, 0.8266746465411068, 0.8529787196457972, 0.7362736984769598, 0.7601250840550692, 0.8041121474068011, 0.7217025393204765, 0.8169451831874011, 0.7378604006368393, 0.812198299547203, 0.8391707859916295, 0.7853011511206734, 0.8393654552795571, 0.8452608087227951, 0.7877678464411797, 0.8282955526029884, 0.8558870013941433, 0.8300492024801479]}, {\"categories\": [\"0\", \"1\", \"2\", \"3\", \"4\", \"5\", \"6\", \"7\", \"8\", \"9\", \"10\", \"11\", \"12\", \"13\", \"14\", \"15\", \"16\", \"17\", \"18\", \"19\"], \"mode\": \"lines\", \"name\": \"average_precision_score_micro_max\", \"stepped\": true, \"type\": \"scatter\", \"data\": [0.8243351275052142, 0.8442862695355291, 0.8442862695355291, 0.8442862695355291, 0.8529787196457972, 0.8529787196457972, 0.8529787196457972, 0.8529787196457972, 0.8529787196457972, 0.8529787196457972, 0.8529787196457972, 0.8529787196457972, 0.8529787196457972, 0.8529787196457972, 0.8529787196457972, 0.8529787196457972, 0.8529787196457972, 0.8529787196457972, 0.8558870013941433, 0.8558870013941433]}]}, \"metricName\": null, \"primaryMetricName\": \"AUC_weighted\", \"showLegend\": false}, \"run_metrics\": [{\"name\": \"experiment_status\", \"run_id\": \"AutoML_08bd5b35-d2cb-4426-8313-a77c644d5977\", \"categories\": [0, 1, 2, 3, 4, 5, 6, 7, 8, 9, 10, 11], \"series\": [{\"data\": [\"DatasetEvaluation\", \"FeaturesGeneration\", \"DatasetFeaturization\", \"DatasetFeaturizationCompleted\", \"DatasetCrossValidationSplit\", \"ModelSelection\", \"BestRunExplainModel\", \"ModelExplanationDataSetSetup\", \"PickSurrogateModel\", \"EngineeredFeatureExplanations\", \"EngineeredFeatureExplanations\", \"RawFeaturesExplanations\"]}]}, {\"name\": \"experiment_status_description\", \"run_id\": \"AutoML_08bd5b35-d2cb-4426-8313-a77c644d5977\", \"categories\": [0, 1, 2, 3, 4, 5, 6, 7, 8, 9, 10, 11], \"series\": [{\"data\": [\"Gathering dataset statistics.\", \"Generating features for the dataset.\", \"Beginning to fit featurizers and featurize the dataset.\", \"Completed fit featurizers and featurizing the dataset.\", \"Generating individually featurized CV splits.\", \"Beginning model selection.\", \"Best run model explanations started\", \"Model explanations data setup completed\", \"Choosing LightGBM as the surrogate model for explanations\", \"Computation of engineered features started\", \"Computation of engineered features completed\", \"Computation of raw features started\"]}]}, {\"name\": \"AUC_micro\", \"run_id\": \"AutoML_08bd5b35-d2cb-4426-8313-a77c644d5977\", \"categories\": [0], \"series\": [{\"data\": [0.8547905815972223]}]}, {\"name\": \"average_precision_score_weighted\", \"run_id\": \"AutoML_08bd5b35-d2cb-4426-8313-a77c644d5977\", \"categories\": [0], \"series\": [{\"data\": [0.8386383415275223]}]}, {\"name\": \"precision_score_weighted\", \"run_id\": \"AutoML_08bd5b35-d2cb-4426-8313-a77c644d5977\", \"categories\": [0], \"series\": [{\"data\": [0.7555994643488684]}]}, {\"name\": \"f1_score_micro\", \"run_id\": \"AutoML_08bd5b35-d2cb-4426-8313-a77c644d5977\", \"categories\": [0], \"series\": [{\"data\": [0.7578125]}]}, {\"name\": \"precision_score_macro\", \"run_id\": \"AutoML_08bd5b35-d2cb-4426-8313-a77c644d5977\", \"categories\": [0], \"series\": [{\"data\": [0.7341084747601769]}]}, {\"name\": \"f1_score_macro\", \"run_id\": \"AutoML_08bd5b35-d2cb-4426-8313-a77c644d5977\", \"categories\": [0], \"series\": [{\"data\": [0.7277446841570945]}]}, {\"name\": \"accuracy\", \"run_id\": \"AutoML_08bd5b35-d2cb-4426-8313-a77c644d5977\", \"categories\": [0], \"series\": [{\"data\": [0.7578125]}]}, {\"name\": \"average_precision_score_macro\", \"run_id\": \"AutoML_08bd5b35-d2cb-4426-8313-a77c644d5977\", \"categories\": [0], \"series\": [{\"data\": [0.807326557431503]}]}, {\"name\": \"precision_score_micro\", \"run_id\": \"AutoML_08bd5b35-d2cb-4426-8313-a77c644d5977\", \"categories\": [0], \"series\": [{\"data\": [0.7578125]}]}, {\"name\": \"matthews_correlation\", \"run_id\": \"AutoML_08bd5b35-d2cb-4426-8313-a77c644d5977\", \"categories\": [0], \"series\": [{\"data\": [0.4586219637859969]}]}, {\"name\": \"AUC_macro\", \"run_id\": \"AutoML_08bd5b35-d2cb-4426-8313-a77c644d5977\", \"categories\": [0], \"series\": [{\"data\": [0.8392141632620447]}]}, {\"name\": \"average_precision_score_micro\", \"run_id\": \"AutoML_08bd5b35-d2cb-4426-8313-a77c644d5977\", \"categories\": [0], \"series\": [{\"data\": [0.8558870013941433]}]}, {\"name\": \"recall_score_micro\", \"run_id\": \"AutoML_08bd5b35-d2cb-4426-8313-a77c644d5977\", \"categories\": [0], \"series\": [{\"data\": [0.7578125]}]}, {\"name\": \"balanced_accuracy\", \"run_id\": \"AutoML_08bd5b35-d2cb-4426-8313-a77c644d5977\", \"categories\": [0], \"series\": [{\"data\": [0.7248234210611009]}]}, {\"name\": \"log_loss\", \"run_id\": \"AutoML_08bd5b35-d2cb-4426-8313-a77c644d5977\", \"categories\": [0], \"series\": [{\"data\": [0.4909616997617885]}]}, {\"name\": \"AUC_weighted\", \"run_id\": \"AutoML_08bd5b35-d2cb-4426-8313-a77c644d5977\", \"categories\": [0], \"series\": [{\"data\": [0.8392141632620447]}]}, {\"name\": \"norm_macro_recall\", \"run_id\": \"AutoML_08bd5b35-d2cb-4426-8313-a77c644d5977\", \"categories\": [0], \"series\": [{\"data\": [0.44964684212220174]}]}, {\"name\": \"recall_score_weighted\", \"run_id\": \"AutoML_08bd5b35-d2cb-4426-8313-a77c644d5977\", \"categories\": [0], \"series\": [{\"data\": [0.7578125]}]}, {\"name\": \"f1_score_weighted\", \"run_id\": \"AutoML_08bd5b35-d2cb-4426-8313-a77c644d5977\", \"categories\": [0], \"series\": [{\"data\": [0.7553235842017003]}]}, {\"name\": \"recall_score_macro\", \"run_id\": \"AutoML_08bd5b35-d2cb-4426-8313-a77c644d5977\", \"categories\": [0], \"series\": [{\"data\": [0.7248234210611009]}]}, {\"name\": \"weighted_accuracy\", \"run_id\": \"AutoML_08bd5b35-d2cb-4426-8313-a77c644d5977\", \"categories\": [0], \"series\": [{\"data\": [0.7843734076325954]}]}], \"run_logs\": \"\\nRun is completed.\", \"graph\": {}, \"widget_settings\": {\"childWidgetDisplay\": \"popup\", \"send_telemetry\": false, \"log_level\": \"INFO\", \"sdk_version\": \"1.37.0\"}, \"loading\": false}"
          },
          "metadata": {}
        }
      ]
    },
    {
      "cell_type": "code",
      "source": [
        "model_name = best_run.properties['model_name']\n",
        "script_file_name = 'inference/score.py'\n",
        "best_run.download_file('outputs/scoring_file_v_1_0_0.py', 'inference/score.py')"
      ],
      "metadata": {
        "id": "dzvOD_XjcXOh"
      },
      "execution_count": 14,
      "outputs": []
    },
    {
      "cell_type": "code",
      "source": [
        "description = 'AutoML Diabetes model'\n",
        "model = remote_run.register_model(model_name = model_name, description = description, tags = None)\n",
        "print(\"Model ID\", remote_run.model_id)"
      ],
      "metadata": {
        "colab": {
          "base_uri": "https://localhost:8080/"
        },
        "id": "PaJ7OIXZdSVg",
        "outputId": "43c8c475-8192-4c82-da61-cc69e2c4ee40"
      },
      "execution_count": 15,
      "outputs": [
        {
          "output_type": "stream",
          "name": "stdout",
          "text": [
            "Model ID AutoML08bd5b35d18\n"
          ]
        }
      ]
    },
    {
      "cell_type": "code",
      "source": [
        "from azureml.core.environment import Environment\n",
        "from azureml.automl.core.shared import constants\n",
        "best_run.download_file(constants.CONDA_ENV_FILE_PATH, 'myenv.yml')\n",
        "myenv = Environment.from_conda_specification(name=\"myenv\", file_path=\"myenv.yml\")"
      ],
      "metadata": {
        "id": "daTXwa84davo"
      },
      "execution_count": 16,
      "outputs": []
    },
    {
      "cell_type": "code",
      "source": [
        "from azureml.core.model import InferenceConfig\n",
        "from azureml.core.webservice import AciWebservice\n",
        "from azureml.core.webservice import Webservice\n",
        "from azureml.core.model import Model\n",
        "from azureml.core.environment import Environment\n",
        "\n",
        "inference_config = InferenceConfig(entry_script=script_file_name, environment=myenv)\n",
        "\n",
        "aciconfig = AciWebservice.deploy_configuration(cpu_cores = 1, \n",
        "                                               memory_gb = 1, \n",
        "                                               description = 'Diabetes Detection service')\n",
        "\n",
        "aci_service_name = 'automl-sample-bankmarketing-all'\n",
        "print(aci_service_name)\n",
        "aci_service = Model.deploy(ws, aci_service_name, [model], inference_config, aciconfig)\n",
        "aci_service.wait_for_deployment(True)\n",
        "print(aci_service.state)"
      ],
      "metadata": {
        "colab": {
          "base_uri": "https://localhost:8080/"
        },
        "id": "NbmdNqhodkpX",
        "outputId": "6b858939-32c8-45a4-bc6a-2e1a22c735f1"
      },
      "execution_count": 17,
      "outputs": [
        {
          "output_type": "stream",
          "name": "stdout",
          "text": [
            "automl-sample-bankmarketing-all\n",
            "Tips: You can try get_logs(): https://aka.ms/debugimage#dockerlog or local deployment: https://aka.ms/debugimage#debug-locally to debug if deployment takes longer than 10 minutes.\n",
            "Running\n",
            "2022-01-09 10:51:58+00:00 Creating Container Registry if not exists..\n",
            "2022-01-09 11:01:58+00:00 Registering the environment..\n",
            "2022-01-09 11:02:01+00:00 Building image..\n",
            "2022-01-09 11:13:34+00:00 Generating deployment configuration.\n",
            "2022-01-09 11:13:35+00:00 Submitting deployment to compute..\n",
            "2022-01-09 11:13:40+00:00 Checking the status of deployment automl-sample-bankmarketing-all..\n",
            "2022-01-09 11:17:54+00:00 Checking the status of inference endpoint automl-sample-bankmarketing-all.\n",
            "Succeeded\n",
            "ACI service creation operation finished, operation \"Succeeded\"\n",
            "Healthy\n"
          ]
        }
      ]
    },
    {
      "cell_type": "code",
      "source": [
        "import urllib.request\n",
        "import json\n",
        "import os\n",
        "import ssl\n",
        "\n",
        "def allowSelfSignedHttps(allowed):\n",
        "    # bypass the server certificate verification on client side\n",
        "    if allowed and not os.environ.get('PYTHONHTTPSVERIFY', '') and getattr(ssl, '_create_unverified_context', None):\n",
        "        ssl._create_default_https_context = ssl._create_unverified_context\n",
        "\n",
        "allowSelfSignedHttps(True) # this line is needed if you use self-signed certificate in your scoring service.\n",
        "\n",
        "# Request data goes here\n",
        "data = {\n",
        "    \"data\": [\n",
        "    {\n",
        "      \"Pregnancies\": 0,\n",
        "      \"Glucose\": 0,\n",
        "      \"BloodPressure\": 0,\n",
        "      \"SkinThickness\": 0,\n",
        "      \"Insulin\": 0,\n",
        "      \"BMI\": 0,\n",
        "      \"DiabetesPedigreeFunction\": 0,\n",
        "      \"Age\": 0\n",
        "    }\n",
        "  ],\n",
        "  \"method\": \"predict\"\n",
        "}\n",
        "\n",
        "body = str.encode(json.dumps(data))\n",
        "\n",
        "url = 'http://903ad508-e251-4475-8ae8-155a68dc106b.eastus.azurecontainer.io/score'\n",
        "api_key = '' # Replace this with the API key for the web service\n",
        "headers = {'Content-Type':'application/json', 'Authorization':('Bearer '+ api_key)}\n",
        "\n",
        "req = urllib.request.Request(url, body, headers)\n",
        "\n",
        "try:\n",
        "    response = urllib.request.urlopen(req)\n",
        "\n",
        "    result = response.read()\n",
        "    print(result)\n",
        "except urllib.error.HTTPError as error:\n",
        "    print(\"The request failed with status code: \" + str(error.code))\n",
        "\n",
        "    # Print the headers - they include the requert ID and the timestamp, which are useful for debugging the failure\n",
        "    print(error.info())"
      ],
      "metadata": {
        "id": "pTBdenqPl0tl"
      },
      "execution_count": null,
      "outputs": []
    }
  ]
}